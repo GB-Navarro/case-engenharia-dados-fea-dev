{
 "cells": [
  {
   "cell_type": "markdown",
   "metadata": {},
   "source": [
    "# **Módulo 1: Introdução à Engenharia de Dados**"
   ]
  },
  {
   "cell_type": "markdown",
   "metadata": {
    "vscode": {
     "languageId": "plaintext"
    }
   },
   "source": [
    "## **1.1 O que é Engenharia de Dados ?**"
   ]
  },
  {
   "cell_type": "markdown",
   "metadata": {},
   "source": [
    "Engenharia de Dados é a área responsável por **construir e manter a infraestrutura** que permite coletar, armazenar, processar e disponibilizar dados de forma eficiente. Pense nela como a \"construção de estradas\" para os dados: o engenheiro de dados cria os caminhos por onde os dados vão trafegar, garantindo que eles cheguem ao destino certo, no formato certo e no momento certo."
   ]
  },
  {
   "cell_type": "markdown",
   "metadata": {
    "vscode": {
     "languageId": "plaintext"
    }
   },
   "source": [
    "### **Engenharia de Dados vs Ciência de Dados**"
   ]
  },
  {
   "cell_type": "markdown",
   "metadata": {},
   "source": [
    "#### **Engenharia de Dados**:"
   ]
  },
  {
   "cell_type": "markdown",
   "metadata": {},
   "source": [
    "- Foca na construção e manutenção da infraestrutura de dados.\n",
    "- Responsável pela coleta, armazenamento e processamento de grandes volumes de dados.\n",
    "- Se os dados fossem água, o engenheiro de dados seria responsável por construir canos, reservatórios e sistemas de filtragem para que a água chegue limpa e pronta para uso."
   ]
  },
  {
   "cell_type": "markdown",
   "metadata": {},
   "source": [
    "#### **Ciência de Dados**:"
   ]
  },
  {
   "cell_type": "markdown",
   "metadata": {},
   "source": [
    "- Foca na análise e interpretação dos dados para extrair insights e tomar decisões informadas.\n",
    "- Utiliza técnicas estatísticas, algoritmos de machine learning e visualização de dados.\n",
    "- Envolve a criação de modelos preditivos e a realização de experimentos para testar hipóteses.\n",
    "- Se os dados fossem água, o cientista de dados seria responsável por analisar a qualidade da água, descobrir de onde ela vem e prever se vai faltar no futuro."
   ]
  },
  {
   "cell_type": "markdown",
   "metadata": {
    "vscode": {
     "languageId": "plaintext"
    }
   },
   "source": [
    "### **O papel do Engenheiro de Dados dentro de um time de dados**"
   ]
  },
  {
   "cell_type": "markdown",
   "metadata": {},
   "source": [
    "O papel do engenheiro de dados dentro de um time de dados é fundamental para garantir que os dados estejam disponíveis, acessíveis e em um formato utilizável para os cientistas de dados e outros stakeholders. As principais responsabilidades incluem:\n",
    "\n",
    "- **Coleta de Dados**: Coletar dados de diferentes fontes, como APIs, bancos de dados, planilhas, sensores, etc.\n",
    "- **Armazenamento de Dados**: Implementar processos de validação e limpeza de dados para assegurar a precisão e a integridade dos dados.\n",
    "- **Armazenamento e gerenciamento de dados**: Escolher e configurar onde os dados serão armazenados (bancos de dados, data lakes, data warehouses).\n",
    "- **Processamento e Transformação de Dados**: Limpar, organizar e transformar os dados brutos em um formato útil para análise.\n",
    "- **Criação de Pipelines de Dados**: Desenvolver fluxos automatizados para mover e processar dados entre diferentes sistemas.\n",
    "- **Garantia de Qualidade dos Dados**: Verificar se os dados estão completos, consistentes e livres de erros.\n"
   ]
  },
  {
   "cell_type": "markdown",
   "metadata": {
    "vscode": {
     "languageId": "plaintext"
    }
   },
   "source": [
    "### **Visão geral do pipeline de dados: Extração, Transformação e Carregamento (ETL)**"
   ]
  },
  {
   "cell_type": "markdown",
   "metadata": {},
   "source": [
    "#### **Pipeline de Dados**"
   ]
  },
  {
   "cell_type": "markdown",
   "metadata": {},
   "source": [
    "Um pipeline de dados é um conjunto de processos que move dados de uma fonte para um destino, passando por etapas de coleta, processamento e armazenamento. É como uma \"linha de montagem\" para dados, onde cada etapa tem um propósito específico."
   ]
  },
  {
   "cell_type": "markdown",
   "metadata": {},
   "source": [
    "#### **(ETL) Extração, Transformação e Carregamento**"
   ]
  },
  {
   "cell_type": "markdown",
   "metadata": {},
   "source": [
    "É um tipo de pipeline de dados que envolve três etapas principais:\n",
    "\n",
    "1. **Extração (Extract):**\n",
    "\n",
    "    - Coleta de dados\n",
    "\n",
    "    - Exemplo: Extrair dados de vendas de um site de e-commerce.\n",
    "\n",
    "2. **Transformação (Transform):**\n",
    "\n",
    "    - Processamento dos dados\n",
    "\n",
    "    - Exemplo: Converter datas para um formato padrão, remover dados duplicados ou calcular valores totais.\n",
    "\n",
    "3. **Carregamento (Load):**\n",
    "\n",
    "    - Armazenamento dos dados\n",
    "\n",
    "    - Exemplo: Carregar os dados de vendas processados em um banco de dados para que os analistas possam acessá-los."
   ]
  },
  {
   "cell_type": "markdown",
   "metadata": {
    "vscode": {
     "languageId": "plaintext"
    }
   },
   "source": [
    "## **1.2 Conceitos Fundamentais**"
   ]
  },
  {
   "cell_type": "markdown",
   "metadata": {
    "vscode": {
     "languageId": "plaintext"
    }
   },
   "source": [
    "### **Tipos de dados**"
   ]
  },
  {
   "cell_type": "markdown",
   "metadata": {
    "vscode": {
     "languageId": "plaintext"
    }
   },
   "source": [
    "#### **Dados Estruturados**"
   ]
  },
  {
   "cell_type": "markdown",
   "metadata": {},
   "source": [
    "![Planilha](./imgs/planilha_estruturado.jpeg)"
   ]
  },
  {
   "cell_type": "markdown",
   "metadata": {},
   "source": [
    "Dados estruturados são aqueles que seguem um formato organizado, como tabelas com linhas e colunas. Eles são armazenados em bancos de dados relacionais, onde cada campo tem um tipo específico (como números, textos ou datas). Eles são comuns em sistemas de gerenciamento de vendas, cadastros de clientes e aplicações que demandam organização."
   ]
  },
  {
   "cell_type": "markdown",
   "metadata": {
    "vscode": {
     "languageId": "plaintext"
    }
   },
   "source": [
    "#### **Dados Semiestruturados**"
   ]
  },
  {
   "cell_type": "markdown",
   "metadata": {},
   "source": [
    "![JSON vs XML](./imgs/JSON_vs._XML_semiestruturado.png)"
   ]
  },
  {
   "cell_type": "markdown",
   "metadata": {
    "vscode": {
     "languageId": "xml"
    }
   },
   "source": [
    "Dados semiestruturados não seguem um estrutura lógica como os dados estruturados, mas ainda possuem uma organização parcial, geralmente em forma de registros com campos e valores. Exemplos de dados semiestruturados são arquivos XML e JSON. Eles são comuns em APIs, logs de sistemas e integrações entre aplicações"
   ]
  },
  {
   "cell_type": "markdown",
   "metadata": {
    "vscode": {
     "languageId": "plaintext"
    }
   },
   "source": [
    "#### **Dados não estruturados**"
   ]
  },
  {
   "cell_type": "markdown",
   "metadata": {},
   "source": [
    "![Dados não estruturados](./imgs/livro_nao_estruturado.jpg)"
   ]
  },
  {
   "cell_type": "markdown",
   "metadata": {},
   "source": [
    "Dados não estruturados são aqueles que não possuem uma organização pré-definida. Eles podem ser textos livres, imagens, vídeos, e-mails, etc."
   ]
  },
  {
   "cell_type": "markdown",
   "metadata": {
    "vscode": {
     "languageId": "plaintext"
    }
   },
   "source": [
    "### **Armazenamento de Dados**"
   ]
  },
  {
   "cell_type": "markdown",
   "metadata": {
    "vscode": {
     "languageId": "plaintext"
    }
   },
   "source": [
    "#### **Bancos Relacionais (SQL)**"
   ]
  },
  {
   "cell_type": "markdown",
   "metadata": {},
   "source": [
    "Bancos relacionais são como \"armários organizados\" para dados. Eles armazenam informações em tabelas, onde cada linha representa um registro (por exemplo, um cliente) e cada coluna representa uma característica (por exemplo, nome, e-mail, telefone). A linguagem **SQL** (Structured Query Language) é usada para consultar e manipular esses tipos de dados.\n",
    "\n",
    "- **Exemplos:**\n",
    "    - **MySQL**: Um dos bancos de dados mais populares, usado em aplicações web e sistemas de gerenciamento.\n",
    "\n",
    "    - **PostgreSQL**: Conhecido por sua robustez e suporte a recursos avançados, como consultas complexas e transações.\n",
    "\n",
    "Use bancos relacionais quando precisar de dados bem organizados e consistentes, como em sistemas de cadastro de clientes, vendas ou finanças."
   ]
  },
  {
   "cell_type": "markdown",
   "metadata": {
    "vscode": {
     "languageId": "plaintext"
    }
   },
   "source": [
    "#### **Bancos Não Relacionais (NoSQL)**"
   ]
  },
  {
   "cell_type": "markdown",
   "metadata": {},
   "source": [
    "Bancos não relacionais são como \"caixas flexíveis\" para dados. Eles não usam tabelas rígidas como os bancos relacionais, mas permitem armazenar dados de forma mais livre, como documentos (JSON), pares de chave-valor ou até grafos.\n",
    "\n",
    "- **Exemplos:**\n",
    "    - **MongoDB:** Armazena dados em formato de documentos (JSON), ideal para aplicações web e mobile.\n",
    "\n",
    "    - **Redis:** Um banco de dados chave-valor, usado para armazenar dados em memória e acelerar o acesso a informações.\n",
    "\n",
    "Use bancos não relacionais quando precisar lidar com grandes volumes de dados ou quando a estrutura dos dados muda com frequência, como em aplicações de mensagens ou sistemas de recomendação.\n",
    "\n"
   ]
  },
  {
   "cell_type": "markdown",
   "metadata": {
    "vscode": {
     "languageId": "plaintext"
    }
   },
   "source": [
    "#### **Data Warehouses e Data Lakes**"
   ]
  },
  {
   "cell_type": "markdown",
   "metadata": {},
   "source": [
    "**Data Warehouses**\n",
    "\n",
    "Data Warehouses são como \"bibliotecas de dados\" onde informações históricas são armazenadas para análise. Eles são otimizados para consultas complexas e geração de relatórios.\n",
    "\n",
    "- **Exemplos:** \n",
    "    - **Amazon Redshift:** Um data warehouse na nuvem, usado para análise de grandes volumes de dados.\n",
    "\n",
    "    - **Google BigQuery:** Outra solução na nuvem, conhecida por sua velocidade e escalabilidade.\n",
    "\n",
    "Use Data Warehouses quando precisar analisar dados históricos para tomar decisões estratégicas, como relatórios de vendas ou tendências de mercado."
   ]
  },
  {
   "cell_type": "markdown",
   "metadata": {},
   "source": [
    "**Data Lakes**\n",
    "\n",
    "Data Lakes são como \"grandes lagos\" onde dados brutos de todos os tipos (estruturados, semiestruturados e não estruturados) são armazenados. Eles são mais flexíveis do que os Data Warehouses, mas exigem ferramentas de processamento para análise.\n",
    "- **Exemplos:**\n",
    "\n",
    "    - **Amazon S3:** Um serviço de armazenamento na nuvem que pode ser usado como um Data Lake.\n",
    "\n",
    "    - **Azure Data Lake:** Uma solução da Microsoft para armazenar e processar grandes volumes de dados.\n",
    "\n",
    "Use Data Lakes quando precisar armazenar grandes volumes de dados brutos, como imagens, vídeos, logs de sistemas ou dados de sensores, para análise futura."
   ]
  },
  {
   "cell_type": "markdown",
   "metadata": {
    "vscode": {
     "languageId": "plaintext"
    }
   },
   "source": [
    "# **Módulo 2: Excel e VBA para Manipulação de Dados**"
   ]
  },
  {
   "cell_type": "markdown",
   "metadata": {
    "vscode": {
     "languageId": "plaintext"
    }
   },
   "source": [
    "## **2.1 Manipulação de Dados no Excel**"
   ]
  },
  {
   "cell_type": "markdown",
   "metadata": {
    "vscode": {
     "languageId": "plaintext"
    }
   },
   "source": [
    "### **O que é o Excel? Por que usá-lo?**"
   ]
  },
  {
   "cell_type": "code",
   "execution_count": null,
   "metadata": {},
   "outputs": [],
   "source": []
  },
  {
   "cell_type": "markdown",
   "metadata": {
    "vscode": {
     "languageId": "plaintext"
    }
   },
   "source": [
    "### **Funções essenciais**"
   ]
  },
  {
   "cell_type": "markdown",
   "metadata": {
    "vscode": {
     "languageId": "plaintext"
    }
   },
   "source": [
    "#### **Básicas**"
   ]
  },
  {
   "cell_type": "markdown",
   "metadata": {
    "vscode": {
     "languageId": "plaintext"
    }
   },
   "source": [
    "##### **SOMA**"
   ]
  },
  {
   "cell_type": "code",
   "execution_count": null,
   "metadata": {},
   "outputs": [],
   "source": []
  },
  {
   "cell_type": "markdown",
   "metadata": {
    "vscode": {
     "languageId": "plaintext"
    }
   },
   "source": [
    "##### **MÉDIA**"
   ]
  },
  {
   "cell_type": "code",
   "execution_count": null,
   "metadata": {},
   "outputs": [],
   "source": []
  },
  {
   "cell_type": "markdown",
   "metadata": {
    "vscode": {
     "languageId": "plaintext"
    }
   },
   "source": [
    "##### **SE**"
   ]
  },
  {
   "cell_type": "code",
   "execution_count": null,
   "metadata": {},
   "outputs": [],
   "source": []
  },
  {
   "cell_type": "markdown",
   "metadata": {
    "vscode": {
     "languageId": "plaintext"
    }
   },
   "source": [
    "#### **Busca e Referência**"
   ]
  },
  {
   "cell_type": "markdown",
   "metadata": {
    "vscode": {
     "languageId": "plaintext"
    }
   },
   "source": [
    "##### **PROCV**"
   ]
  },
  {
   "cell_type": "code",
   "execution_count": null,
   "metadata": {},
   "outputs": [],
   "source": []
  },
  {
   "cell_type": "markdown",
   "metadata": {
    "vscode": {
     "languageId": "plaintext"
    }
   },
   "source": [
    "##### **ÍNDICE + CORRESP**"
   ]
  },
  {
   "cell_type": "code",
   "execution_count": null,
   "metadata": {},
   "outputs": [],
   "source": []
  },
  {
   "cell_type": "markdown",
   "metadata": {
    "vscode": {
     "languageId": "plaintext"
    }
   },
   "source": [
    "#### **Funções Condicionais e Agregações**"
   ]
  },
  {
   "cell_type": "markdown",
   "metadata": {
    "vscode": {
     "languageId": "plaintext"
    }
   },
   "source": [
    "##### **SOMASES**"
   ]
  },
  {
   "cell_type": "code",
   "execution_count": null,
   "metadata": {},
   "outputs": [],
   "source": []
  },
  {
   "cell_type": "markdown",
   "metadata": {
    "vscode": {
     "languageId": "plaintext"
    }
   },
   "source": [
    "##### **CONT.SES**"
   ]
  },
  {
   "cell_type": "code",
   "execution_count": null,
   "metadata": {},
   "outputs": [],
   "source": []
  },
  {
   "cell_type": "markdown",
   "metadata": {
    "vscode": {
     "languageId": "plaintext"
    }
   },
   "source": [
    "## **2.2 Automação com VBA**"
   ]
  },
  {
   "cell_type": "markdown",
   "metadata": {
    "vscode": {
     "languageId": "plaintext"
    }
   },
   "source": [
    "### **O que é o VBA? Por que usá-lo?**"
   ]
  },
  {
   "cell_type": "markdown",
   "metadata": {
    "vscode": {
     "languageId": "plaintext"
    }
   },
   "source": [
    "### **Introdução ao VBA e Macros**"
   ]
  },
  {
   "cell_type": "code",
   "execution_count": null,
   "metadata": {},
   "outputs": [],
   "source": []
  },
  {
   "cell_type": "markdown",
   "metadata": {
    "vscode": {
     "languageId": "plaintext"
    }
   },
   "source": [
    "### **Criando scripts VBA para manipulação automática de planilhas**"
   ]
  },
  {
   "cell_type": "code",
   "execution_count": null,
   "metadata": {},
   "outputs": [],
   "source": []
  },
  {
   "cell_type": "markdown",
   "metadata": {
    "vscode": {
     "languageId": "plaintext"
    }
   },
   "source": [
    "### **Importação e tratamento de dados com VBA**"
   ]
  },
  {
   "cell_type": "code",
   "execution_count": null,
   "metadata": {},
   "outputs": [],
   "source": []
  },
  {
   "cell_type": "markdown",
   "metadata": {
    "vscode": {
     "languageId": "plaintext"
    }
   },
   "source": [
    "# **Projeto 1 (Módulos 1 e 2)**"
   ]
  },
  {
   "cell_type": "markdown",
   "metadata": {
    "vscode": {
     "languageId": "plaintext"
    }
   },
   "source": [
    "**Objetivo:** Criar um sistema automatizado de análise de dados no Excel\n",
    "\n",
    "**Habilidades envolvidas:** Organização de dados, automação VBA, conceitos básicos de engenharia de dados. \n",
    "\n",
    "**Tarefas:**\n",
    "\n",
    "- Criar um relatório automatizado de vendas ou despesas a partir de um dataset CSV\n",
    "\n",
    "- Utilizar PROCV e ÍNDICE + CORRESP para buscar dados\n",
    "\n",
    "- Criar um script VBA que automatize a limpeza e filtragem dos dados"
   ]
  },
  {
   "cell_type": "markdown",
   "metadata": {
    "vscode": {
     "languageId": "plaintext"
    }
   },
   "source": [
    "# **Módulo 3: SQL e Banco de Dados Relacionais**"
   ]
  },
  {
   "cell_type": "markdown",
   "metadata": {
    "vscode": {
     "languageId": "plaintext"
    }
   },
   "source": [
    "## **3.1 Fundamentos de SQL** "
   ]
  },
  {
   "cell_type": "markdown",
   "metadata": {
    "vscode": {
     "languageId": "plaintext"
    }
   },
   "source": [
    "### **O que são bancos de dados relacionais?**"
   ]
  },
  {
   "cell_type": "code",
   "execution_count": null,
   "metadata": {},
   "outputs": [],
   "source": []
  },
  {
   "cell_type": "markdown",
   "metadata": {
    "vscode": {
     "languageId": "plaintext"
    }
   },
   "source": [
    "### **CRUD**"
   ]
  },
  {
   "cell_type": "markdown",
   "metadata": {
    "vscode": {
     "languageId": "plaintext"
    }
   },
   "source": [
    "#### **Create**"
   ]
  },
  {
   "cell_type": "code",
   "execution_count": null,
   "metadata": {},
   "outputs": [],
   "source": []
  },
  {
   "cell_type": "markdown",
   "metadata": {
    "vscode": {
     "languageId": "plaintext"
    }
   },
   "source": [
    "#### **Read**"
   ]
  },
  {
   "cell_type": "code",
   "execution_count": null,
   "metadata": {},
   "outputs": [],
   "source": []
  },
  {
   "cell_type": "markdown",
   "metadata": {
    "vscode": {
     "languageId": "plaintext"
    }
   },
   "source": [
    "#### **Update**"
   ]
  },
  {
   "cell_type": "code",
   "execution_count": null,
   "metadata": {},
   "outputs": [],
   "source": []
  },
  {
   "cell_type": "markdown",
   "metadata": {
    "vscode": {
     "languageId": "plaintext"
    }
   },
   "source": [
    "#### **Delete**"
   ]
  },
  {
   "cell_type": "code",
   "execution_count": null,
   "metadata": {},
   "outputs": [],
   "source": []
  },
  {
   "cell_type": "markdown",
   "metadata": {
    "vscode": {
     "languageId": "plaintext"
    }
   },
   "source": [
    "## **3.2 SQL Avançado**"
   ]
  },
  {
   "cell_type": "markdown",
   "metadata": {
    "vscode": {
     "languageId": "plaintext"
    }
   },
   "source": [
    "### **Filtros**"
   ]
  },
  {
   "cell_type": "markdown",
   "metadata": {
    "vscode": {
     "languageId": "plaintext"
    }
   },
   "source": [
    "#### **WHERE**"
   ]
  },
  {
   "cell_type": "code",
   "execution_count": null,
   "metadata": {},
   "outputs": [],
   "source": []
  },
  {
   "cell_type": "markdown",
   "metadata": {
    "vscode": {
     "languageId": "plaintext"
    }
   },
   "source": [
    "### **Ordenação**"
   ]
  },
  {
   "cell_type": "markdown",
   "metadata": {
    "vscode": {
     "languageId": "plaintext"
    }
   },
   "source": [
    "#### **ORDER BY**"
   ]
  },
  {
   "cell_type": "code",
   "execution_count": null,
   "metadata": {},
   "outputs": [],
   "source": []
  },
  {
   "cell_type": "markdown",
   "metadata": {
    "vscode": {
     "languageId": "plaintext"
    }
   },
   "source": [
    "### **Joins**"
   ]
  },
  {
   "cell_type": "markdown",
   "metadata": {
    "vscode": {
     "languageId": "plaintext"
    }
   },
   "source": [
    "#### **INNER JOIN**"
   ]
  },
  {
   "cell_type": "code",
   "execution_count": null,
   "metadata": {},
   "outputs": [],
   "source": []
  },
  {
   "cell_type": "markdown",
   "metadata": {
    "vscode": {
     "languageId": "plaintext"
    }
   },
   "source": [
    "#### **LEFT JOIN**"
   ]
  },
  {
   "cell_type": "code",
   "execution_count": null,
   "metadata": {},
   "outputs": [],
   "source": []
  },
  {
   "cell_type": "markdown",
   "metadata": {
    "vscode": {
     "languageId": "plaintext"
    }
   },
   "source": [
    "#### **RIGHT JOIN**"
   ]
  },
  {
   "cell_type": "code",
   "execution_count": null,
   "metadata": {},
   "outputs": [],
   "source": []
  },
  {
   "cell_type": "markdown",
   "metadata": {
    "vscode": {
     "languageId": "plaintext"
    }
   },
   "source": [
    "#### **FULL JOIN**"
   ]
  },
  {
   "cell_type": "code",
   "execution_count": null,
   "metadata": {},
   "outputs": [],
   "source": []
  },
  {
   "cell_type": "markdown",
   "metadata": {
    "vscode": {
     "languageId": "plaintext"
    }
   },
   "source": [
    "### **Funções Agregadas**"
   ]
  },
  {
   "cell_type": "markdown",
   "metadata": {
    "vscode": {
     "languageId": "plaintext"
    }
   },
   "source": [
    "#### **SUM**"
   ]
  },
  {
   "cell_type": "code",
   "execution_count": null,
   "metadata": {},
   "outputs": [],
   "source": []
  },
  {
   "cell_type": "markdown",
   "metadata": {
    "vscode": {
     "languageId": "plaintext"
    }
   },
   "source": [
    "#### **AVG**"
   ]
  },
  {
   "cell_type": "code",
   "execution_count": null,
   "metadata": {},
   "outputs": [],
   "source": []
  },
  {
   "cell_type": "markdown",
   "metadata": {
    "vscode": {
     "languageId": "plaintext"
    }
   },
   "source": [
    "#### **COUNT**"
   ]
  },
  {
   "cell_type": "code",
   "execution_count": null,
   "metadata": {},
   "outputs": [],
   "source": []
  },
  {
   "cell_type": "markdown",
   "metadata": {
    "vscode": {
     "languageId": "plaintext"
    }
   },
   "source": [
    "### **Views e Subqueries**"
   ]
  },
  {
   "cell_type": "code",
   "execution_count": null,
   "metadata": {},
   "outputs": [],
   "source": []
  },
  {
   "cell_type": "markdown",
   "metadata": {
    "vscode": {
     "languageId": "plaintext"
    }
   },
   "source": [
    "### **Otimização de Queries**"
   ]
  },
  {
   "cell_type": "markdown",
   "metadata": {
    "vscode": {
     "languageId": "plaintext"
    }
   },
   "source": [
    "#### **Índices**"
   ]
  },
  {
   "cell_type": "code",
   "execution_count": null,
   "metadata": {},
   "outputs": [],
   "source": []
  },
  {
   "cell_type": "markdown",
   "metadata": {
    "vscode": {
     "languageId": "plaintext"
    }
   },
   "source": [
    "#### **Normalização**"
   ]
  },
  {
   "cell_type": "code",
   "execution_count": null,
   "metadata": {},
   "outputs": [],
   "source": []
  },
  {
   "cell_type": "markdown",
   "metadata": {
    "vscode": {
     "languageId": "plaintext"
    }
   },
   "source": [
    "# **Módulo 4: Web Scrapping e Extração de Dados**"
   ]
  },
  {
   "cell_type": "markdown",
   "metadata": {
    "vscode": {
     "languageId": "plaintext"
    }
   },
   "source": [
    "## **4.1 Introdução ao Web Scrapping**"
   ]
  },
  {
   "cell_type": "markdown",
   "metadata": {
    "vscode": {
     "languageId": "plaintext"
    }
   },
   "source": [
    "### **O que é Web Scrapping e quando utilizar essa técnica?**"
   ]
  },
  {
   "cell_type": "code",
   "execution_count": null,
   "metadata": {},
   "outputs": [],
   "source": []
  },
  {
   "cell_type": "markdown",
   "metadata": {
    "vscode": {
     "languageId": "plaintext"
    }
   },
   "source": [
    "### **Diferença entre scrapping e APIs**"
   ]
  },
  {
   "cell_type": "code",
   "execution_count": null,
   "metadata": {},
   "outputs": [],
   "source": []
  },
  {
   "cell_type": "markdown",
   "metadata": {
    "vscode": {
     "languageId": "plaintext"
    }
   },
   "source": [
    "### **Ferramentas comuns**"
   ]
  },
  {
   "cell_type": "markdown",
   "metadata": {
    "vscode": {
     "languageId": "plaintext"
    }
   },
   "source": [
    "#### **BeatifulSoup (Extração de HTML)**"
   ]
  },
  {
   "cell_type": "code",
   "execution_count": null,
   "metadata": {},
   "outputs": [],
   "source": []
  },
  {
   "cell_type": "markdown",
   "metadata": {
    "vscode": {
     "languageId": "plaintext"
    }
   },
   "source": [
    "#### **Selenium (Automação de interações)**"
   ]
  },
  {
   "cell_type": "code",
   "execution_count": null,
   "metadata": {},
   "outputs": [],
   "source": []
  },
  {
   "cell_type": "markdown",
   "metadata": {
    "vscode": {
     "languageId": "plaintext"
    }
   },
   "source": [
    "## **4.2 Extraindo Dados da Web** "
   ]
  },
  {
   "cell_type": "markdown",
   "metadata": {
    "vscode": {
     "languageId": "plaintext"
    }
   },
   "source": [
    "### **Identificando estruturas HTML e elementos**"
   ]
  },
  {
   "cell_type": "code",
   "execution_count": null,
   "metadata": {},
   "outputs": [],
   "source": []
  },
  {
   "cell_type": "markdown",
   "metadata": {
    "vscode": {
     "languageId": "plaintext"
    }
   },
   "source": [
    "### **Fazendo requisições HTTP com requests**"
   ]
  },
  {
   "cell_type": "code",
   "execution_count": null,
   "metadata": {},
   "outputs": [],
   "source": []
  },
  {
   "cell_type": "markdown",
   "metadata": {
    "vscode": {
     "languageId": "plaintext"
    }
   },
   "source": [
    "### **Extraindo tabelas e listas de sites**"
   ]
  },
  {
   "cell_type": "code",
   "execution_count": null,
   "metadata": {},
   "outputs": [],
   "source": []
  },
  {
   "cell_type": "markdown",
   "metadata": {
    "vscode": {
     "languageId": "plaintext"
    }
   },
   "source": [
    "### **Automação com Selenium para interagir com páginas**"
   ]
  },
  {
   "cell_type": "code",
   "execution_count": null,
   "metadata": {},
   "outputs": [],
   "source": []
  },
  {
   "cell_type": "markdown",
   "metadata": {
    "vscode": {
     "languageId": "plaintext"
    }
   },
   "source": [
    "## **4.3 APIs e Consumo de Dados Externos**"
   ]
  },
  {
   "cell_type": "markdown",
   "metadata": {
    "vscode": {
     "languageId": "plaintext"
    }
   },
   "source": [
    "### **O que são APIs REST?**"
   ]
  },
  {
   "cell_type": "code",
   "execution_count": null,
   "metadata": {},
   "outputs": [],
   "source": []
  },
  {
   "cell_type": "markdown",
   "metadata": {
    "vscode": {
     "languageId": "plaintext"
    }
   },
   "source": [
    "### **Fazendo requisições GET e POST**"
   ]
  },
  {
   "cell_type": "code",
   "execution_count": null,
   "metadata": {},
   "outputs": [],
   "source": []
  },
  {
   "cell_type": "markdown",
   "metadata": {
    "vscode": {
     "languageId": "plaintext"
    }
   },
   "source": [
    "### **Manipulando dados JSON e XML**"
   ]
  },
  {
   "cell_type": "code",
   "execution_count": null,
   "metadata": {},
   "outputs": [],
   "source": []
  },
  {
   "cell_type": "markdown",
   "metadata": {
    "vscode": {
     "languageId": "plaintext"
    }
   },
   "source": [
    "# **Projeto 2 (Módulos 3 e 4)**"
   ]
  },
  {
   "cell_type": "markdown",
   "metadata": {
    "vscode": {
     "languageId": "plaintext"
    }
   },
   "source": [
    "**Objetivo:** Criar um banco de dados populado por dados coletados da web\n",
    "\n",
    "**Habilidades envolvidas:** SQL, Web Scraping, consumo de APIs\n",
    "\n",
    "**Tarefas:**\n",
    "\n",
    "- Criar um banco de dados relacional no PostgreSQL\n",
    "- Coletar dados de produtos, notícias ou cotações de um site usando Web Scraping\n",
    "- Inserir os dados no banco via SQL\n",
    "- Criar queries para análise dos dados coletados"
   ]
  },
  {
   "cell_type": "code",
   "execution_count": null,
   "metadata": {},
   "outputs": [],
   "source": []
  },
  {
   "cell_type": "markdown",
   "metadata": {
    "vscode": {
     "languageId": "plaintext"
    }
   },
   "source": [
    "# **Módulo 5: ETL e Pipelines de Dados**"
   ]
  },
  {
   "cell_type": "markdown",
   "metadata": {
    "vscode": {
     "languageId": "plaintext"
    }
   },
   "source": [
    "## **5.1 Introdução ao ETL**"
   ]
  },
  {
   "cell_type": "markdown",
   "metadata": {
    "vscode": {
     "languageId": "plaintext"
    }
   },
   "source": [
    "### **O que é ETL e sua importância**"
   ]
  },
  {
   "cell_type": "code",
   "execution_count": null,
   "metadata": {},
   "outputs": [],
   "source": []
  },
  {
   "cell_type": "markdown",
   "metadata": {
    "vscode": {
     "languageId": "plaintext"
    }
   },
   "source": [
    "### **Diferença entre ETL e ELT**"
   ]
  },
  {
   "cell_type": "code",
   "execution_count": null,
   "metadata": {},
   "outputs": [],
   "source": []
  },
  {
   "cell_type": "markdown",
   "metadata": {
    "vscode": {
     "languageId": "plaintext"
    }
   },
   "source": [
    "## **5.2 Construindo um Pipeline de Dados**"
   ]
  },
  {
   "cell_type": "markdown",
   "metadata": {
    "vscode": {
     "languageId": "plaintext"
    }
   },
   "source": [
    "### **Extraindo dados de múltiplas fontes**"
   ]
  },
  {
   "cell_type": "code",
   "execution_count": null,
   "metadata": {},
   "outputs": [],
   "source": []
  },
  {
   "cell_type": "markdown",
   "metadata": {
    "vscode": {
     "languageId": "plaintext"
    }
   },
   "source": [
    "### **Transformação: limpeza e padronização**"
   ]
  },
  {
   "cell_type": "code",
   "execution_count": null,
   "metadata": {},
   "outputs": [],
   "source": []
  },
  {
   "cell_type": "markdown",
   "metadata": {
    "vscode": {
     "languageId": "plaintext"
    }
   },
   "source": [
    "### **Carregamento: armazenando os dados corretamente**"
   ]
  },
  {
   "cell_type": "code",
   "execution_count": null,
   "metadata": {},
   "outputs": [],
   "source": []
  },
  {
   "cell_type": "markdown",
   "metadata": {
    "vscode": {
     "languageId": "plaintext"
    }
   },
   "source": [
    "## **5.3 Ferramentas para ETL**"
   ]
  },
  {
   "cell_type": "markdown",
   "metadata": {
    "vscode": {
     "languageId": "plaintext"
    }
   },
   "source": [
    "### **Pandas para transformação de dados**"
   ]
  },
  {
   "cell_type": "code",
   "execution_count": null,
   "metadata": {},
   "outputs": [],
   "source": []
  },
  {
   "cell_type": "markdown",
   "metadata": {
    "vscode": {
     "languageId": "plaintext"
    }
   },
   "source": [
    "### **Airflow para automação de pipelines**"
   ]
  },
  {
   "cell_type": "code",
   "execution_count": null,
   "metadata": {},
   "outputs": [],
   "source": []
  },
  {
   "cell_type": "markdown",
   "metadata": {
    "vscode": {
     "languageId": "plaintext"
    }
   },
   "source": [
    "### **DBT para modelagem e versionamento de dados**"
   ]
  },
  {
   "cell_type": "code",
   "execution_count": null,
   "metadata": {},
   "outputs": [],
   "source": []
  },
  {
   "cell_type": "markdown",
   "metadata": {
    "vscode": {
     "languageId": "plaintext"
    }
   },
   "source": [
    "# **Módulo 6: Big Data e Processamento Distribuído**"
   ]
  },
  {
   "cell_type": "markdown",
   "metadata": {
    "vscode": {
     "languageId": "plaintext"
    }
   },
   "source": [
    "## **6.1 O que é Big Data**"
   ]
  },
  {
   "cell_type": "markdown",
   "metadata": {
    "vscode": {
     "languageId": "plaintext"
    }
   },
   "source": [
    "### **Conceitos de Volume, Velocidade e Variedade**"
   ]
  },
  {
   "cell_type": "code",
   "execution_count": null,
   "metadata": {},
   "outputs": [],
   "source": []
  },
  {
   "cell_type": "markdown",
   "metadata": {
    "vscode": {
     "languageId": "plaintext"
    }
   },
   "source": [
    "### **Arquiteturas de processamento distribuído**"
   ]
  },
  {
   "cell_type": "code",
   "execution_count": null,
   "metadata": {},
   "outputs": [],
   "source": []
  },
  {
   "cell_type": "markdown",
   "metadata": {
    "vscode": {
     "languageId": "plaintext"
    }
   },
   "source": [
    "### **Introdução ao Hadoop e Spark**"
   ]
  },
  {
   "cell_type": "code",
   "execution_count": null,
   "metadata": {},
   "outputs": [],
   "source": []
  },
  {
   "cell_type": "markdown",
   "metadata": {
    "vscode": {
     "languageId": "plaintext"
    }
   },
   "source": [
    "## **6.2 Fundamentos do Spark**"
   ]
  },
  {
   "cell_type": "markdown",
   "metadata": {
    "vscode": {
     "languageId": "plaintext"
    }
   },
   "source": [
    "### **Trabalhando com PySpark**"
   ]
  },
  {
   "cell_type": "code",
   "execution_count": null,
   "metadata": {},
   "outputs": [],
   "source": []
  },
  {
   "cell_type": "markdown",
   "metadata": {
    "vscode": {
     "languageId": "plaintext"
    }
   },
   "source": [
    "### **Transformações e ações em dados grandes**"
   ]
  },
  {
   "cell_type": "code",
   "execution_count": null,
   "metadata": {},
   "outputs": [],
   "source": []
  },
  {
   "cell_type": "markdown",
   "metadata": {
    "vscode": {
     "languageId": "plaintext"
    }
   },
   "source": [
    "### **Uso de DataFrames e RDDs**"
   ]
  },
  {
   "cell_type": "code",
   "execution_count": null,
   "metadata": {},
   "outputs": [],
   "source": []
  },
  {
   "cell_type": "markdown",
   "metadata": {
    "vscode": {
     "languageId": "plaintext"
    }
   },
   "source": [
    "# **Projeto 3 (Módulos 5 e 6)**"
   ]
  },
  {
   "cell_type": "markdown",
   "metadata": {
    "vscode": {
     "languageId": "plaintext"
    }
   },
   "source": [
    "**Objetivo:** Criar um pipeline de dados automatizado usando ETL\n",
    "\n",
    "**Habilidades envolvidas:** ETL, Pandas, Spark\n",
    "  \n",
    "**Tarefas:**\n",
    "\n",
    "- Criar um pipeline de ETL que extrai dados de uma API\n",
    "\n",
    "- Transformar os dados e salvar em um Data Warehouse\n",
    "\n",
    "- Processar os dados com Spark e gerar relatórios"
   ]
  },
  {
   "cell_type": "markdown",
   "metadata": {
    "vscode": {
     "languageId": "plaintext"
    }
   },
   "source": [
    "# **Módulo Extra: Banco de dados NoSQL**"
   ]
  },
  {
   "cell_type": "markdown",
   "metadata": {
    "vscode": {
     "languageId": "plaintext"
    }
   },
   "source": [
    "## **Extra 1: Introdução ao NoSQL**"
   ]
  },
  {
   "cell_type": "markdown",
   "metadata": {
    "vscode": {
     "languageId": "plaintext"
    }
   },
   "source": [
    "### **O que são bancos de dados NoSQL?**"
   ]
  },
  {
   "cell_type": "code",
   "execution_count": null,
   "metadata": {},
   "outputs": [],
   "source": []
  },
  {
   "cell_type": "markdown",
   "metadata": {
    "vscode": {
     "languageId": "plaintext"
    }
   },
   "source": [
    "### **Diferença entre SQL e NoSQL**"
   ]
  },
  {
   "cell_type": "code",
   "execution_count": null,
   "metadata": {},
   "outputs": [],
   "source": []
  },
  {
   "cell_type": "markdown",
   "metadata": {
    "vscode": {
     "languageId": "plaintext"
    }
   },
   "source": [
    "#### **Casos de uso**"
   ]
  },
  {
   "cell_type": "code",
   "execution_count": null,
   "metadata": {},
   "outputs": [],
   "source": []
  },
  {
   "cell_type": "markdown",
   "metadata": {
    "vscode": {
     "languageId": "plaintext"
    }
   },
   "source": [
    "#### **Vantagens/desvantagens**"
   ]
  },
  {
   "cell_type": "code",
   "execution_count": null,
   "metadata": {},
   "outputs": [],
   "source": []
  },
  {
   "cell_type": "markdown",
   "metadata": {
    "vscode": {
     "languageId": "plaintext"
    }
   },
   "source": [
    "### **Principais tipos de NoSQL**"
   ]
  },
  {
   "cell_type": "markdown",
   "metadata": {
    "vscode": {
     "languageId": "plaintext"
    }
   },
   "source": [
    "#### **KeyValue**"
   ]
  },
  {
   "cell_type": "markdown",
   "metadata": {
    "vscode": {
     "languageId": "plaintext"
    }
   },
   "source": [
    "##### **Redis**"
   ]
  },
  {
   "cell_type": "code",
   "execution_count": null,
   "metadata": {},
   "outputs": [],
   "source": []
  },
  {
   "cell_type": "markdown",
   "metadata": {
    "vscode": {
     "languageId": "plaintext"
    }
   },
   "source": [
    "#### **Document**"
   ]
  },
  {
   "cell_type": "markdown",
   "metadata": {},
   "source": [
    "##### **MongoDB**"
   ]
  },
  {
   "cell_type": "code",
   "execution_count": null,
   "metadata": {},
   "outputs": [],
   "source": []
  },
  {
   "cell_type": "markdown",
   "metadata": {
    "vscode": {
     "languageId": "plaintext"
    }
   },
   "source": [
    "#### **Columnar**"
   ]
  },
  {
   "cell_type": "markdown",
   "metadata": {
    "vscode": {
     "languageId": "plaintext"
    }
   },
   "source": [
    "##### **Cassandra**"
   ]
  },
  {
   "cell_type": "code",
   "execution_count": null,
   "metadata": {},
   "outputs": [],
   "source": []
  },
  {
   "cell_type": "markdown",
   "metadata": {
    "vscode": {
     "languageId": "plaintext"
    }
   },
   "source": [
    "#### **Graph**"
   ]
  },
  {
   "cell_type": "markdown",
   "metadata": {
    "vscode": {
     "languageId": "plaintext"
    }
   },
   "source": [
    "##### **Neo4j**"
   ]
  },
  {
   "cell_type": "code",
   "execution_count": null,
   "metadata": {},
   "outputs": [],
   "source": []
  },
  {
   "cell_type": "markdown",
   "metadata": {
    "vscode": {
     "languageId": "plaintext"
    }
   },
   "source": [
    "## **Extra 2: Trabalhando com MongoDB**"
   ]
  },
  {
   "cell_type": "markdown",
   "metadata": {
    "vscode": {
     "languageId": "plaintext"
    }
   },
   "source": [
    "### **Estrutura de documentos JSON no MongoDB**"
   ]
  },
  {
   "cell_type": "code",
   "execution_count": null,
   "metadata": {},
   "outputs": [],
   "source": []
  },
  {
   "cell_type": "markdown",
   "metadata": {
    "vscode": {
     "languageId": "plaintext"
    }
   },
   "source": [
    "### **Operações Básicas**"
   ]
  },
  {
   "cell_type": "markdown",
   "metadata": {
    "vscode": {
     "languageId": "plaintext"
    }
   },
   "source": [
    "#### **Inserção**"
   ]
  },
  {
   "cell_type": "code",
   "execution_count": null,
   "metadata": {},
   "outputs": [],
   "source": []
  },
  {
   "cell_type": "markdown",
   "metadata": {
    "vscode": {
     "languageId": "plaintext"
    }
   },
   "source": [
    "#### **Consulta**"
   ]
  },
  {
   "cell_type": "code",
   "execution_count": null,
   "metadata": {},
   "outputs": [],
   "source": []
  },
  {
   "cell_type": "markdown",
   "metadata": {
    "vscode": {
     "languageId": "plaintext"
    }
   },
   "source": [
    "#### **Atualização**"
   ]
  },
  {
   "cell_type": "code",
   "execution_count": null,
   "metadata": {},
   "outputs": [],
   "source": []
  },
  {
   "cell_type": "markdown",
   "metadata": {
    "vscode": {
     "languageId": "plaintext"
    }
   },
   "source": [
    "#### **Remoção**"
   ]
  },
  {
   "cell_type": "code",
   "execution_count": null,
   "metadata": {},
   "outputs": [],
   "source": []
  },
  {
   "cell_type": "markdown",
   "metadata": {
    "vscode": {
     "languageId": "plaintext"
    }
   },
   "source": [
    "### **Índices e otimização de consultas**"
   ]
  },
  {
   "cell_type": "code",
   "execution_count": null,
   "metadata": {},
   "outputs": [],
   "source": []
  },
  {
   "cell_type": "markdown",
   "metadata": {
    "vscode": {
     "languageId": "plaintext"
    }
   },
   "source": [
    "## **Extra 3: Integração de NoSQL com Python**"
   ]
  },
  {
   "cell_type": "markdown",
   "metadata": {
    "vscode": {
     "languageId": "plaintext"
    }
   },
   "source": [
    "### **Conectando o MongoDB ao Python usando pymongo**"
   ]
  },
  {
   "cell_type": "code",
   "execution_count": null,
   "metadata": {},
   "outputs": [],
   "source": []
  },
  {
   "cell_type": "markdown",
   "metadata": {
    "vscode": {
     "languageId": "plaintext"
    }
   },
   "source": [
    "### **Inserindo e consultando documentos via script Python**"
   ]
  },
  {
   "cell_type": "code",
   "execution_count": null,
   "metadata": {},
   "outputs": [],
   "source": []
  },
  {
   "cell_type": "markdown",
   "metadata": {
    "vscode": {
     "languageId": "plaintext"
    }
   },
   "source": [
    "### **Transformando dados NoSQL para DataFrames Pandas**"
   ]
  },
  {
   "cell_type": "code",
   "execution_count": null,
   "metadata": {},
   "outputs": [],
   "source": []
  },
  {
   "cell_type": "markdown",
   "metadata": {
    "vscode": {
     "languageId": "plaintext"
    }
   },
   "source": [
    "# **📌 Projeto Final: Construção de um Pipeline de Dados Completo para Monitoramento de Indicadores Econômicos**"
   ]
  },
  {
   "cell_type": "markdown",
   "metadata": {
    "vscode": {
     "languageId": "plaintext"
    }
   },
   "source": [
    "**Objetivo:** Criar um pipeline completo que extrai, transforma, armazena e analisa dados de indicadores econômicos a partir de múltiplas fontes, incluindo Web Scraping, APIs e bancos de dados. O projeto deve utilizar tanto SQL quanto NoSQL, além de técnicas de ETL e processamento distribuído.\n",
    "\n",
    "**Etapas e Tecnologias Envolvidas**\n",
    "**1. Extração de Dados (Web Scraping + APIs)**\n",
    "\n",
    "- Ferramentas: \n",
    "    - requests \n",
    "    - BeautifulSoup\n",
    "    -  Selenium\n",
    "    \n",
    "- A fazer:\n",
    "    \n",
    "    - Coletar dados de inflação, PIB e taxa de câmbio de sites governamentais via Web Scraping.\n",
    "    - Utilizar APIs financeiras para obter dados históricos de ativos.\n",
    "    - Armazenar os dados brutos em JSON e CSV.\n",
    "\n",
    "    📝 Entrega: Criar scripts Python para extrair e armazenar os dados.\n",
    "\n",
    "**2. Armazenamento e Modelagem de Dados (SQL + NoSQL)**\n",
    "\n",
    "- Ferramentas: \n",
    "    - PostgreSQL\n",
    "    - MongoDB\n",
    "    - pymongo\n",
    "\n",
    "- A fazer:\n",
    "\n",
    "    - Criar um banco relacional para armazenar séries temporais estruturadas.\n",
    "    - Utilizar MongoDB para armazenar metadados dos indicadores.\n",
    "    - Definir índices e otimizar consultas.\n",
    "\n",
    "    📝 Entrega: Criar e popular tabelas SQL e coleções MongoDB.\n",
    "\n",
    "**3. Transformação e Enriquecimento dos Dados (ETL com Pandas e Airflow)**\n",
    "  \n",
    "- Ferramentas: \n",
    "    - Pandas\n",
    "    - Airflow\n",
    "    - DBT\n",
    "\n",
    "- A fazer:\n",
    "\n",
    "    - Criar um pipeline de ETL que padroniza e enriquece os dados.\n",
    "    - Normalizar datas e remover inconsistências.\n",
    "    - Automatizar a atualização diária dos dados com Apache Airflow.\n",
    "\n",
    "    📝 Entrega: Criar DAGs no Airflow para automação do pipeline.\n",
    "\n",
    "**4. Processamento de Dados em Larga Escala (Big Data com Spark)**\n",
    "\n",
    "- Ferramentas: \n",
    "    - PySpark\n",
    "    - Hadoop\n",
    "    - DataFrames e RDDs\n",
    "\n",
    "- A fazer:\n",
    "\n",
    "    - Carregar os dados no Spark para processamento distribuído.\n",
    "    - Criar agregações e cálculos de médias móveis para previsões.\n",
    "\n",
    "    📝 Entrega: Criar scripts PySpark para análise de grandes volumes de dados.\n",
    "\n",
    "**5. Dashboard Interativo para Visualização dos Dados** **(Achar um papel melhor para Excel + VBA nesse projeto)**\n",
    "\n",
    "- Ferramentas: \n",
    "  - Excel\n",
    "  - VBA\n",
    "\n",
    "- A fazer:\n",
    "    \n",
    "    - Criar gráficos dinâmicos no Excel/VBA para explorar os dados.\n",
    "    - Construir um dashboard web com Dash para visualização interativa.\n",
    "\n",
    "    📝 Entrega: Criar gráficos e dashboards para análise exploratória.\n",
    "\n",
    "**🎯 Entregáveis Finais**\n",
    "\n",
    "- ✅ Código-fonte do pipeline (Jupyter Notebooks + Scripts Python). \n",
    "\n",
    "- ✅ Banco de dados SQL e NoSQL populado.\n",
    "\n",
    "- ✅ Relatórios e visualizações em Excel e Dash.\n",
    "    \n",
    "- ✅ Documentação do projeto explicando cada etapa."
   ]
  }
 ],
 "metadata": {
  "kernelspec": {
   "display_name": "Python 3",
   "language": "python",
   "name": "python3"
  },
  "language_info": {
   "codemirror_mode": {
    "name": "ipython",
    "version": 3
   },
   "file_extension": ".py",
   "mimetype": "text/x-python",
   "name": "python",
   "nbconvert_exporter": "python",
   "pygments_lexer": "ipython3",
   "version": "3.12.7"
  }
 },
 "nbformat": 4,
 "nbformat_minor": 2
}
