{
 "cells": [
  {
   "cell_type": "markdown",
   "metadata": {},
   "source": [
    "# **Módulo 1: Introdução à Engenharia de Dados**"
   ]
  },
  {
   "cell_type": "markdown",
   "metadata": {
    "vscode": {
     "languageId": "plaintext"
    }
   },
   "source": [
    "## **1.1 O que é Engenharia de Dados ?**"
   ]
  },
  {
   "cell_type": "markdown",
   "metadata": {
    "vscode": {
     "languageId": "plaintext"
    }
   },
   "source": [
    "### **Diferença entre Engenharia de Dados e Ciência de Dados**"
   ]
  },
  {
   "cell_type": "code",
   "execution_count": null,
   "metadata": {},
   "outputs": [],
   "source": []
  },
  {
   "cell_type": "markdown",
   "metadata": {
    "vscode": {
     "languageId": "plaintext"
    }
   },
   "source": [
    "### **O papel do Engenheiro de Dados dentro de um time de dados**"
   ]
  },
  {
   "cell_type": "code",
   "execution_count": null,
   "metadata": {},
   "outputs": [],
   "source": []
  },
  {
   "cell_type": "markdown",
   "metadata": {
    "vscode": {
     "languageId": "plaintext"
    }
   },
   "source": [
    "### **Visão geral do pipeline de dados: Extração, Transformação e Carregamento (ETL)**"
   ]
  },
  {
   "cell_type": "code",
   "execution_count": null,
   "metadata": {},
   "outputs": [],
   "source": []
  },
  {
   "cell_type": "markdown",
   "metadata": {
    "vscode": {
     "languageId": "plaintext"
    }
   },
   "source": [
    "## **1.2 Conceitos Fundamentais**"
   ]
  },
  {
   "cell_type": "markdown",
   "metadata": {
    "vscode": {
     "languageId": "plaintext"
    }
   },
   "source": [
    "### **Tipos de dados**"
   ]
  },
  {
   "cell_type": "markdown",
   "metadata": {
    "vscode": {
     "languageId": "plaintext"
    }
   },
   "source": [
    "#### **Estruturados: Bancos relacionais (SQL)**"
   ]
  },
  {
   "cell_type": "code",
   "execution_count": null,
   "metadata": {},
   "outputs": [],
   "source": []
  },
  {
   "cell_type": "markdown",
   "metadata": {
    "vscode": {
     "languageId": "plaintext"
    }
   },
   "source": [
    "#### **Semiestruturados: JSON e XML**"
   ]
  },
  {
   "cell_type": "code",
   "execution_count": null,
   "metadata": {},
   "outputs": [],
   "source": []
  },
  {
   "cell_type": "markdown",
   "metadata": {
    "vscode": {
     "languageId": "plaintext"
    }
   },
   "source": [
    "#### **Não estruturados: Imagens, vídeos, texto**"
   ]
  },
  {
   "cell_type": "code",
   "execution_count": null,
   "metadata": {},
   "outputs": [],
   "source": []
  },
  {
   "cell_type": "markdown",
   "metadata": {
    "vscode": {
     "languageId": "plaintext"
    }
   },
   "source": [
    "### **Armazenamento de Dados**"
   ]
  },
  {
   "cell_type": "markdown",
   "metadata": {
    "vscode": {
     "languageId": "plaintext"
    }
   },
   "source": [
    "#### **Bancos Relacionais (MYSQL, PostgreSQL)**"
   ]
  },
  {
   "cell_type": "code",
   "execution_count": null,
   "metadata": {},
   "outputs": [],
   "source": []
  },
  {
   "cell_type": "markdown",
   "metadata": {
    "vscode": {
     "languageId": "plaintext"
    }
   },
   "source": [
    "#### **Bancos Não Relacionais (MongoDB, Redis)**"
   ]
  },
  {
   "cell_type": "code",
   "execution_count": null,
   "metadata": {},
   "outputs": [],
   "source": []
  },
  {
   "cell_type": "markdown",
   "metadata": {
    "vscode": {
     "languageId": "plaintext"
    }
   },
   "source": [
    "#### **Data Warehouses e Data Lakes**"
   ]
  },
  {
   "cell_type": "code",
   "execution_count": null,
   "metadata": {},
   "outputs": [],
   "source": []
  },
  {
   "cell_type": "markdown",
   "metadata": {
    "vscode": {
     "languageId": "plaintext"
    }
   },
   "source": [
    "# **Módulo 2: Excel e VBA para Manipulação de Dados**"
   ]
  },
  {
   "cell_type": "markdown",
   "metadata": {
    "vscode": {
     "languageId": "plaintext"
    }
   },
   "source": [
    "## **2.1 Manipulação de Dados no Excel**"
   ]
  },
  {
   "cell_type": "markdown",
   "metadata": {
    "vscode": {
     "languageId": "plaintext"
    }
   },
   "source": [
    "### **O que é o Excel? Por que usá-lo?**"
   ]
  },
  {
   "cell_type": "code",
   "execution_count": null,
   "metadata": {},
   "outputs": [],
   "source": []
  },
  {
   "cell_type": "markdown",
   "metadata": {
    "vscode": {
     "languageId": "plaintext"
    }
   },
   "source": [
    "### **Funções essenciais**"
   ]
  },
  {
   "cell_type": "markdown",
   "metadata": {
    "vscode": {
     "languageId": "plaintext"
    }
   },
   "source": [
    "#### **Básicas**"
   ]
  },
  {
   "cell_type": "markdown",
   "metadata": {
    "vscode": {
     "languageId": "plaintext"
    }
   },
   "source": [
    "##### **SOMA**"
   ]
  },
  {
   "cell_type": "code",
   "execution_count": null,
   "metadata": {},
   "outputs": [],
   "source": []
  },
  {
   "cell_type": "markdown",
   "metadata": {
    "vscode": {
     "languageId": "plaintext"
    }
   },
   "source": [
    "##### **MÉDIA**"
   ]
  },
  {
   "cell_type": "code",
   "execution_count": null,
   "metadata": {},
   "outputs": [],
   "source": []
  },
  {
   "cell_type": "markdown",
   "metadata": {
    "vscode": {
     "languageId": "plaintext"
    }
   },
   "source": [
    "##### **SE**"
   ]
  },
  {
   "cell_type": "code",
   "execution_count": null,
   "metadata": {},
   "outputs": [],
   "source": []
  },
  {
   "cell_type": "markdown",
   "metadata": {
    "vscode": {
     "languageId": "plaintext"
    }
   },
   "source": [
    "#### **Busca e Referência**"
   ]
  },
  {
   "cell_type": "markdown",
   "metadata": {
    "vscode": {
     "languageId": "plaintext"
    }
   },
   "source": [
    "##### **PROCV**"
   ]
  },
  {
   "cell_type": "code",
   "execution_count": null,
   "metadata": {},
   "outputs": [],
   "source": []
  },
  {
   "cell_type": "markdown",
   "metadata": {
    "vscode": {
     "languageId": "plaintext"
    }
   },
   "source": [
    "##### **ÍNDICE + CORRESP**"
   ]
  },
  {
   "cell_type": "code",
   "execution_count": null,
   "metadata": {},
   "outputs": [],
   "source": []
  },
  {
   "cell_type": "markdown",
   "metadata": {
    "vscode": {
     "languageId": "plaintext"
    }
   },
   "source": [
    "#### **Funções Condicionais e Agregações**"
   ]
  },
  {
   "cell_type": "markdown",
   "metadata": {
    "vscode": {
     "languageId": "plaintext"
    }
   },
   "source": [
    "##### **SOMASES**"
   ]
  },
  {
   "cell_type": "code",
   "execution_count": null,
   "metadata": {},
   "outputs": [],
   "source": []
  },
  {
   "cell_type": "markdown",
   "metadata": {
    "vscode": {
     "languageId": "plaintext"
    }
   },
   "source": [
    "##### **CONT.SES**"
   ]
  },
  {
   "cell_type": "code",
   "execution_count": null,
   "metadata": {},
   "outputs": [],
   "source": []
  },
  {
   "cell_type": "markdown",
   "metadata": {
    "vscode": {
     "languageId": "plaintext"
    }
   },
   "source": [
    "## **2.2 Automação com VBA**"
   ]
  },
  {
   "cell_type": "markdown",
   "metadata": {
    "vscode": {
     "languageId": "plaintext"
    }
   },
   "source": [
    "### **O que é o VBA? Por que usá-lo?**"
   ]
  },
  {
   "cell_type": "markdown",
   "metadata": {
    "vscode": {
     "languageId": "plaintext"
    }
   },
   "source": [
    "### **Introdução ao VBA e Macros**"
   ]
  },
  {
   "cell_type": "code",
   "execution_count": null,
   "metadata": {},
   "outputs": [],
   "source": []
  },
  {
   "cell_type": "markdown",
   "metadata": {
    "vscode": {
     "languageId": "plaintext"
    }
   },
   "source": [
    "### **Criando scripts VBA para manipulação automática de planilhas**"
   ]
  },
  {
   "cell_type": "code",
   "execution_count": null,
   "metadata": {},
   "outputs": [],
   "source": []
  },
  {
   "cell_type": "markdown",
   "metadata": {
    "vscode": {
     "languageId": "plaintext"
    }
   },
   "source": [
    "### **Importação e tratamento de dados com VBA**"
   ]
  },
  {
   "cell_type": "code",
   "execution_count": null,
   "metadata": {},
   "outputs": [],
   "source": []
  },
  {
   "cell_type": "markdown",
   "metadata": {
    "vscode": {
     "languageId": "plaintext"
    }
   },
   "source": [
    "# **Projeto 1 (Módulos 1 e 2)**"
   ]
  },
  {
   "cell_type": "markdown",
   "metadata": {
    "vscode": {
     "languageId": "plaintext"
    }
   },
   "source": [
    "**Objetivo:** Criar um sistema automatizado de análise de dados no Excel\n",
    "\n",
    "**Habilidades envolvidas:** Organização de dados, automação VBA, conceitos básicos de engenharia de dados. \n",
    "\n",
    "**Tarefas:**\n",
    "\n",
    "- Criar um relatório automatizado de vendas ou despesas a partir de um dataset CSV\n",
    "\n",
    "- Utilizar PROCV e ÍNDICE + CORRESP para buscar dados\n",
    "\n",
    "- Criar um script VBA que automatize a limpeza e filtragem dos dados"
   ]
  },
  {
   "cell_type": "markdown",
   "metadata": {
    "vscode": {
     "languageId": "plaintext"
    }
   },
   "source": [
    "# **Módulo 3: SQL e Banco de Dados Relacionais**"
   ]
  },
  {
   "cell_type": "markdown",
   "metadata": {
    "vscode": {
     "languageId": "plaintext"
    }
   },
   "source": [
    "## **3.1 Fundamentos de SQL** "
   ]
  },
  {
   "cell_type": "markdown",
   "metadata": {
    "vscode": {
     "languageId": "plaintext"
    }
   },
   "source": [
    "### **O que são Bancos de Dados Relacionais?**"
   ]
  },
  {
   "cell_type": "markdown",
   "metadata": {
    "vscode": {
     "languageId": "plaintext"
    }
   },
   "source": [
    "Os **bancos de dados relacionais** são sistemas de armazenamento de dados organizados em **tabelas** que possuem relações entre si. Eles seguem um modelo estruturado baseado na **álgebra relacional**, garantindo organização, integridade e eficiência no gerenciamento dos dados."
   ]
  },
  {
   "cell_type": "markdown",
   "metadata": {
    "vscode": {
     "languageId": "plaintext"
    }
   },
   "source": [
    "### **Conceitos fundamentais dos Bancos de Dados Relacionais**"
   ]
  },
  {
   "cell_type": "markdown",
   "metadata": {
    "vscode": {
     "languageId": "plaintext"
    }
   },
   "source": [
    "- **1️⃣ Tabelas –** Os dados são armazenados em tabelas, que consistem em linhas (registros) e colunas (atributos). Cada coluna representa um campo específico e cada linha contém um conjunto de valores relacionados.\n",
    "  - Analogia: Imagine uma planilha do Excel, onde cada aba representa uma tabela, as colunas definem os tipos de dados (como \"Nome\", \"Idade\") e cada linha corresponde a um registro individual.\n",
    "\n",
    "  - Em suma, podemos pensar nas tabelas de um banco de dados como tabelas do Excel, mas muito mais estruturadas e otimizadas para armazenar e manipular grandes volumes de informações de forma eficiente.\n",
    "  \n",
    "- **2️⃣ Chaves Primárias (Primary Key - PK) –** Uma coluna (ou um conjunto de colunas) que identifica de forma única cada registro dentro de uma tabela.\n",
    "\n",
    "    - Exemplo: Em uma tabela de clientes, a coluna *id_cliente* pode ser a chave primária.\n",
    "\n",
    "- **3️⃣ Chaves Estrangeiras (Foreign Key - FK) –** Um campo que estabelece uma relação entre duas tabelas, garantindo a integridade referencial.\n",
    "\n",
    "    - Exemplo: Se há uma tabela ***pedidos***, ela pode ter um *id_cliente* que referencia a chave primária da tabela ***clientes***.\n",
    "\n",
    "- **4️⃣ Relacionamentos –** As tabelas podem se relacionar de diferentes formas:\n",
    "  \n",
    "  - 1:1 (Um para Um) – Um registro em uma tabela corresponde a exatamente um registro em outra.\n",
    "  \n",
    "  - 1:N (Um para Muitos) – Um registro em uma tabela pode estar associado a vários registros em outra tabela. Exemplo: um cliente pode fazer vários pedidos.\n",
    "  \n",
    "  - N:M (Muitos para Muitos) – Ocorre quando múltiplos registros de uma tabela podem se relacionar com múltiplos registros de outra. Para representar essa relação, é necessária uma tabela intermediária, que armazena as conexões entre as duas tabelas principais.\n",
    "\n",
    "**Falaremos mais sobre cada um desses conceitos nos tópicos a seguir.**"
   ]
  },
  {
   "cell_type": "markdown",
   "metadata": {},
   "source": [
    "### **Consultas básicas (```SELECT```, ```WHERE```, ```ORDER BY```, ```LIMIT```)**"
   ]
  },
  {
   "cell_type": "markdown",
   "metadata": {},
   "source": [
    "Agora que conhecemos os conceitos fundamentais de um banco de dados relacional, precisamos aprender a como recuperar e manipular esses dados. Para isso, utilizamos comandos SQL que nos permitem consultar, filtrar, ordenar e limitar os resultados armazenados nas tabelas.\n",
    "\n",
    "As consultas em SQL seguem uma estrutura lógica e flexível, permitindo extrair exatamente as informações desejadas de forma eficiente. O comando mais fundamental para recuperar dados é o ```SELECT```, mas ele pode ser combinado com outras cláusulas para refinar e organizar os resultados de maneira mais útil, como veremos a seguir.\n",
    "\n",
    "**Nesta seção, exploraremos esses comandos diretamente na linguagem SQL. No entanto, na próxima etapa, aprenderemos como utilizá-los dentro do Python, tornando nossas consultas mais dinâmicas e integradas a aplicações. Pequeno spoiler: os comandos permanecerão os mesmos, apenas a forma de executá-los mudará um pouco!**"
   ]
  },
  {
   "cell_type": "markdown",
   "metadata": {},
   "source": [
    "#### **1. Recuperando todos os dados de uma tabela**"
   ]
  },
  {
   "cell_type": "markdown",
   "metadata": {},
   "source": [
    "Imagine que temos uma tabela chamada ```clientes```, que armazena informações sobre clientes de uma loja:\n",
    "\n",
    "| id_cliente | nome        | idade | email              |\n",
    "|------------|------------|-------|--------------------|\n",
    "| 1          | Ana Souza  | 30    | ana@email.com      |\n",
    "| 2          | João Silva | 25    | joao@email.com     |\n",
    "| 3          | Maria Lima | 40    | maria@email.com    |\n",
    "\n",
    "Se quisermos visualizar todos os dados dessa tabela, usamos o seguinte comando:\n",
    "\n",
    "```sql\n",
    "                        SELECT * from clientes;\n",
    "```\n",
    "\n",
    "Fazendo isso, teremos o seguinte resultado:\n",
    "\n",
    "| id_cliente | nome        | idade | email              |\n",
    "|------------|------------|-------|--------------------|\n",
    "| 1          | Ana Souza  | 30    | ana@email.com      |\n",
    "| 2          | João Silva | 25    | joao@email.com     |\n",
    "| 3          | Maria Lima | 40    | maria@email.com    |\n",
    "\n",
    "**Observação: Não se esqueça do ```;``` no final da consulta! Ele é utilizado para indicar o fim do comando SQL, garantindo que a instrução seja executada corretamente.**"
   ]
  },
  {
   "cell_type": "markdown",
   "metadata": {},
   "source": [
    "**Explicação:**\n",
    "\n",
    "- ```SELECT``` $\\rightarrow$ Indica quais colunas queremos visualizar.\n",
    "- ```*``` $\\rightarrow$ Representa **todas** as colunas da tabela.\n",
    "- ```FROM clientes``` $\\rightarrow$ Especifica de qual tabela os dados serão recuperados. \n",
    "\n",
    "**Observação: O uso de ```*``` é útil para explorar os dados, mas não é eficiente em grandes bancos de dados. Sempre que possível, selecione apenas as colunas necessárias.**"
   ]
  },
  {
   "cell_type": "markdown",
   "metadata": {},
   "source": [
    "#### **2. Selecionando colunas específicas** "
   ]
  },
  {
   "cell_type": "markdown",
   "metadata": {},
   "source": [
    "E se quisermos apenas os nomes e as idades dos clientes, ignorando os outros dados? Basta especificar as colunas desejadas ao invés de usar ```*```:\n",
    "\n",
    "```sql\n",
    "                        SELECT nome, idade FROM clientes;\n",
    "```\n",
    "\n",
    "Fazendo isso, teremos o seguinte resultado:\n",
    "\n",
    "| nome        | idade |\n",
    "|------------|-------|\n",
    "| Ana Souza  | 30    |\n",
    "| João Silva | 25    |\n",
    "| Maria Lima | 40    |"
   ]
  },
  {
   "cell_type": "markdown",
   "metadata": {},
   "source": [
    "**Explicação:**\n",
    "\n",
    "- Ao contrário do exemplo anterior, aqui estamos pedindo apenas as colunas ```nome``` e ```idade```, reduzindo a quantidade de dados retornados."
   ]
  },
  {
   "cell_type": "markdown",
   "metadata": {},
   "source": [
    "#### **3. Filtrando dados com ```WHERE```** "
   ]
  },
  {
   "cell_type": "markdown",
   "metadata": {},
   "source": [
    "Às vezes, não queremos todos os registros, mas apenas aqueles que atendem a uma condição específica. Para isso, usamos a cláusula ```WHERE```.\n",
    "\n",
    "Por exemplo, para selecionar apenas os clientes com idade maior que 30:\n",
    "\n",
    "```sql\n",
    "                        SELECT * FROM clientes WHERE idade > 30;\n",
    "```\n",
    "\n",
    "Fazendo isso, teremos como resultado:\n",
    "\n",
    "| id_cliente | nome        | idade | email              |\n",
    "|------------|------------|-------|--------------------|\n",
    "| 3          | Maria Lima | 40    | maria@email.com    |\n",
    "\n",
    "**Observação: Perceba que selecionamos todos os atributos (colunas) dos clientes cuja idade é maior que 30.**"
   ]
  },
  {
   "cell_type": "markdown",
   "metadata": {},
   "source": [
    "**Explicação:**\n",
    "\n",
    "- Ao usar ```WHERE idade > 30;``` filtramos a consulta de modo a obter apenas os clientes cuja idade seja maior que 30."
   ]
  },
  {
   "cell_type": "markdown",
   "metadata": {},
   "source": [
    "#### **4. Ordenando resultados com ```ORDER BY```**"
   ]
  },
  {
   "cell_type": "markdown",
   "metadata": {},
   "source": [
    "Os dados retornados por uma consulta podem ser ordenados de forma **ascendente (padrão)** ou descendente com a cláusula ```ORDER BY```.\n",
    "\n",
    "Por exemplo, para listar os clientes em ordem alfabética:\n",
    "\n",
    "```sql\n",
    "                        SELECT * from clientes ORDER BY nome;\n",
    "```\n",
    "\n",
    "Fazendo isso, teremos como resultado:\n",
    "\n",
    "| id_cliente | nome        | idade | email              |\n",
    "|------------|------------|-------|--------------------|\n",
    "| 1          | Ana Souza  | 30    | ana@email.com      |\n",
    "| 2          | João Silva | 25    | joao@email.com     |\n",
    "| 3          | Maria Lima | 40    | maria@email.com    |\n",
    "\n",
    "Se quisermos inverter a ordem (do maior para o menor ou de Z para A), usamos ```DESC```:\n",
    "\n",
    "```sql\n",
    "                        SELECT * from clientes ORDER BY nome DESC;\n",
    "```\n",
    "\n",
    "Fazendo isso, teremos como resultado:\n",
    "\n",
    "| id_cliente | nome        | idade | email              |\n",
    "|------------|------------|-------|--------------------|\n",
    "| 3          | Maria Lima | 40    | maria@email.com    |\n",
    "| 2          | João Silva | 25    | joao@email.com     |\n",
    "| 1          | Ana Souza  | 30    | ana@email.com      |\n"
   ]
  },
  {
   "cell_type": "markdown",
   "metadata": {},
   "source": [
    "**Explicação:**\n",
    "\n",
    "- Usamos ```ORDER BY nome;``` para ordenar os resultados de forma crescente e com base na coluna ```nome```.\n",
    "\n",
    "- Usamos ```ORDER BY nome DESC;``` para ordenar os resultados de forma decrescente e com base na coluna ```nome```."
   ]
  },
  {
   "cell_type": "markdown",
   "metadata": {},
   "source": [
    "**Dica: Podemos ordenar por múltiplas colunas. Exemplo: ordenar por idade e, para clientes com a mesma idade, ordenar por nome:**\n",
    "\n",
    "```sql\n",
    "                        SELECT * FROM clientes ORDER BY idade DESC, nome ASC; \n",
    "```\n",
    "\n",
    "**Explicação:**\n",
    "\n",
    "- Ao utilizarmos ```ORDER BY idade DESC;``` ordenamos os dados de forma decrescente com base na coluna ```idade```, ou seja, os registros com maior idade aparecerão primeiro. Já se utilizarmos ```ORDER BY idade DESC, nome ASC;```, os dados continuam ordenados primeiro pela idade em ordem decrescente, mas, caso existam clientes com a mesma idade, eles serão organizados em ordem alfabética crescente pelo nome. "
   ]
  },
  {
   "cell_type": "markdown",
   "metadata": {},
   "source": [
    "#### **5. Limitando a quantidade de resultados com ```LIMIT```**"
   ]
  },
  {
   "cell_type": "markdown",
   "metadata": {},
   "source": [
    "Se estivermos lidando com grandes volumes de dados, pode ser útil limitar o número de registros retornados. Para isso, usamos ```LIMIT```.\n",
    "\n",
    "Por exemplo, para obter os 2 primeiros clientes da tabela:\n",
    "\n",
    "```sql\n",
    "                        SELECT * FROM clientes LIMIT 2;\n",
    "```\n",
    "\n",
    "Fazendo isso, teremos como resultado:\n",
    "\n",
    "| id_cliente | nome        | idade | email              |\n",
    "|------------|------------|-------|--------------------|\n",
    "| 1          | Ana Souza  | 30    | ana@email.com      |\n",
    "| 2          | João Silva | 25    | joao@email.com     |\n",
    "\n",
    "Se quisermos os 2 clientes mais velhos, combinamos ```ORDER BY``` com ```LIMIT```:\n",
    "\n",
    "```sql\n",
    "                        SELECT * FROM clientes ORDER BY idade DESC LIMIT 2;\n",
    "```\n",
    "\n",
    "Fazendo isso, teremos como resultado:\n",
    "\n",
    "| id_cliente | nome        | idade | email              |\n",
    "|------------|------------|-------|--------------------|\n",
    "| 3          | Maria Lima | 40    | maria@email.com    |\n",
    "| 1          | Ana Souza  | 30    | ana@email.com      |\n"
   ]
  },
  {
   "cell_type": "markdown",
   "metadata": {},
   "source": [
    "**Explicação:**\n",
    "\n",
    "- Utilizamos ```ORDER BY idade DESC``` para ordenar os dados pela idade em ordem decrescente, garantindo que os indivíduos mais velhos apareçam primeiro. Em seguida, aplicamos ```LIMIT 2``` para retornar apenas os dois primeiros registros, que correspondem aos dois clientes de maior idade."
   ]
  },
  {
   "cell_type": "markdown",
   "metadata": {},
   "source": [
    "#### **Exercícios**"
   ]
  },
  {
   "cell_type": "markdown",
   "metadata": {},
   "source": [
    "Dada a seguinte tabela ```clientes```:\n",
    "    \n",
    "| id_cliente | nome        | idade | email              | cidade        |\n",
    "|------------|------------|-------|--------------------|----------------|\n",
    "| 1          | Ana Souza  | 30    | ana@email.com      | Rio de janeiro |\n",
    "| 2          | João Silva | 25    | joao@email.com     | São Paulo      |\n",
    "| 3          | Maria Lima | 40    | maria@email.com    | Belo Horizonte |\n",
    "\n",
    "Escreva, em uma folha de papel, as seguintes consultas:\n",
    "\n",
    "1. Uma consulta que retorne apenas os nomes e cidades dos clientes.\n",
    "\n",
    "2. Uma consulta para encontrar o cliente mais jovem na base de dados.\n",
    "\n",
    "3. Uma consulta que liste os clientes ordenados primeiro por idade (mais jovem primeiro) e depois por cidade (Z-A).\n",
    "\n",
    "4. Uma consulta para encontrar todos os clientes que moram em Belo Horizonte. "
   ]
  },
  {
   "cell_type": "markdown",
   "metadata": {},
   "source": [
    "#### **Respostas [Veja apenas após tentar responder as perguntas!]**"
   ]
  },
  {
   "cell_type": "markdown",
   "metadata": {},
   "source": [
    "1. ```sql SELECT nome, cidade from clientes;```\n",
    "\n",
    "2. ```sql SELECT * from clientes ORDER BY idade LIMIT 1```\n",
    "\n",
    "3. ```sql SELECT * from clientes ORDER BY idade ASC, cidade DESC```\n",
    "\n",
    "4. ```sql SELECT * from clientes WHERE cidade = 'Belo Horizonte'``` "
   ]
  },
  {
   "cell_type": "markdown",
   "metadata": {
    "vscode": {
     "languageId": "plaintext"
    }
   },
   "source": [
    "### **CRUD**"
   ]
  },
  {
   "cell_type": "markdown",
   "metadata": {},
   "source": [
    "Agora que já aprendemos a consultar dados em um banco de dados, é fundamental entender como podemos inserir, atualizar e excluir informações. Para isso, utilizamos operações conhecidas pelo acrônimo CRUD, que representa:\n",
    "\n",
    "- Create (Criar → ```INSERT INTO```)\n",
    "\n",
    "- Read (Ler → ```SELECT```)\n",
    "\n",
    "- Update (Atualizar → ```UPDATE```)\n",
    "\n",
    "- Delete (Excluir → ```DELETE```)   \n",
    "\n",
    "Essas quatro operações formam a base da manipulação de dados em bancos relacionais. Vamos explorar cada uma delas!"
   ]
  },
  {
   "cell_type": "markdown",
   "metadata": {
    "vscode": {
     "languageId": "plaintext"
    }
   },
   "source": [
    "#### **Create**"
   ]
  },
  {
   "cell_type": "markdown",
   "metadata": {},
   "source": [
    "A operação Create é a operação que nos permite adicionar novos registros a uma tabela no banco de dados. Para isso, utilizamos o comando ```INSERT INTO```. Tal comando é usado da seguinte forma:\n",
    "\n",
    "```sql \n",
    "    INSERT INTO nome_da_tabela (coluna1, coluna2, coluna3)  \n",
    "    VALUES (valor1, valor2, valor3);\n",
    "```"
   ]
  },
  {
   "cell_type": "code",
   "execution_count": null,
   "metadata": {},
   "outputs": [],
   "source": []
  },
  {
   "cell_type": "markdown",
   "metadata": {
    "vscode": {
     "languageId": "plaintext"
    }
   },
   "source": [
    "#### **Read**"
   ]
  },
  {
   "cell_type": "markdown",
   "metadata": {},
   "source": [
    "Já aprendemos a recuperar dados com ```SELECT```, o comando mais usado para consultar informações de um banco de dados.\n",
    "\n",
    "De todo modo, vamos relembrar algumas consultas:"
   ]
  },
  {
   "cell_type": "markdown",
   "metadata": {},
   "source": [
    "**1. Selecionar todos os registros e colunas de uma tabela:**\n",
    "```sql \n",
    "SELECT * FROM table; -- Retorna todos os registros e todas as colunas da tabela \"table\".\n",
    "``` \n",
    "\n",
    "**2. Selecionar apenas colunas específicas:**\n",
    "```sql \n",
    "SELECT coluna1, coluna2 FROM table; -- Retorna apenas os dados das colunas \"coluna1\" e \"coluna2\" da tabela \"table\".\n",
    "``` \n",
    "\n",
    "**3. Filtrar registros com base em uma condição:**\n",
    "```sql \n",
    "SELECT * FROM table WHERE colunaX = 'Y'; -- Retorna apenas os registros onde o valor da coluna \"colunaX\" é igual a \"Y\".\n",
    "```\n",
    "\n",
    "**4. Ordenar os resultados por uma coluna específica:**\n",
    "```sql\n",
    "SELECT * FROM table ORDER BY colunaX ASC; -- Retorna todos os registros ordenados pela coluna \"colunaX\" em ordem crescente.\n",
    "```\n",
    "\n",
    "**5. Limitar o número de resultados retornados:**\n",
    "```sql\n",
    "SELECT * FROM table LIMIT 5; -- Retorna apenas os primeiros 5 registros da tabela \"table\".\n",
    "```"
   ]
  },
  {
   "cell_type": "markdown",
   "metadata": {
    "vscode": {
     "languageId": "plaintext"
    }
   },
   "source": [
    "#### **Update**"
   ]
  },
  {
   "cell_type": "code",
   "execution_count": null,
   "metadata": {},
   "outputs": [],
   "source": []
  },
  {
   "cell_type": "markdown",
   "metadata": {
    "vscode": {
     "languageId": "plaintext"
    }
   },
   "source": [
    "#### **Delete**"
   ]
  },
  {
   "cell_type": "code",
   "execution_count": null,
   "metadata": {},
   "outputs": [],
   "source": []
  },
  {
   "cell_type": "markdown",
   "metadata": {},
   "source": [
    "### **Como usar SQL junto ao Python?** [1]"
   ]
  },
  {
   "cell_type": "markdown",
   "metadata": {},
   "source": [
    "Para criar e gerenciar um banco de dados relacional usando Python, utilizamos bibliotecas que interagem com sistemas de gerenciamento de bancos de dados (SGBDs), como SQLite, PostgreSQL ou MySQL.\n",
    "\n",
    "Neste exemplo, vamos usar o SQLite, um banco de dados leve e integrado ao Python. O processo será semelhante para outros SGBDs, mudando apenas a biblioteca de conexão."
   ]
  },
  {
   "cell_type": "markdown",
   "metadata": {},
   "source": [
    "#### **Passo a Passo para Criar um Banco de Dados com SQLite**"
   ]
  },
  {
   "cell_type": "markdown",
   "metadata": {},
   "source": [
    "##### **1️⃣ Importar a Biblioteca**"
   ]
  },
  {
   "cell_type": "markdown",
   "metadata": {},
   "source": [
    "O Python já vem com suporte ao SQLite por meio do módulo sqlite3, então não é necessário instalar nada adicional."
   ]
  },
  {
   "cell_type": "code",
   "execution_count": null,
   "metadata": {},
   "outputs": [],
   "source": [
    "import sqlite3"
   ]
  },
  {
   "cell_type": "markdown",
   "metadata": {},
   "source": [
    "##### **2️⃣ Criar (ou Conectar-se a) um Banco de Dados**"
   ]
  },
  {
   "cell_type": "markdown",
   "metadata": {},
   "source": [
    "Se o banco de dados não existir, ele será criado automaticamente. Se já existir, a conexão será estabelecida."
   ]
  },
  {
   "cell_type": "code",
   "execution_count": null,
   "metadata": {},
   "outputs": [],
   "source": [
    "conn = sqlite3.connect(\"meu_banco.db\")  # Cria um arquivo SQLite no diretório\n",
    "cursor = conn.cursor()  # Criar um cursor para executar comandos SQL"
   ]
  },
  {
   "cell_type": "markdown",
   "metadata": {},
   "source": [
    "##### **3️⃣ Criar uma Tabela**"
   ]
  },
  {
   "cell_type": "markdown",
   "metadata": {},
   "source": [
    "Vamos criar uma tabela chamada clientes com três colunas: ```id```, ```nome``` e ```idade```."
   ]
  },
  {
   "cell_type": "code",
   "execution_count": null,
   "metadata": {},
   "outputs": [],
   "source": []
  },
  {
   "cell_type": "markdown",
   "metadata": {},
   "source": [
    "### **Álgebra Relacional: A Base para Compreender SQL** [MELHORAR MUITO] [2]"
   ]
  },
  {
   "cell_type": "markdown",
   "metadata": {},
   "source": [
    "A álgebra relacional é um modelo matemático que define operações sobre conjuntos de dados estruturados. Ela serve como base teórica para o SQL, ajudando a entender como consultas são formuladas e por que funcionam de determinada maneira.\n",
    "\n",
    "**Por que enxergar SQL sob a ótica da algebra relacional?** [mudar]\n",
    "\n",
    "Imagine que você precisa analisar a relação entre as tabelas Clientes e TransacoesBancarias. A álgebra relacional explica como unir essas tabelas, filtrar apenas clientes de alto valor e calcular estatísticas, exatamente como fariam as consultas SQL! **Com essa base, aprender SQL deixa de ser apenas uma questão de memorização de comandos e passa a ser um processo lógico e intuitivo.** "
   ]
  },
  {
   "cell_type": "markdown",
   "metadata": {},
   "source": [
    "#### **Operações da Álgebra Relacional e seus equivalentes em SQL**"
   ]
  },
  {
   "cell_type": "markdown",
   "metadata": {},
   "source": [
    "##### **Operações fundamentais**"
   ]
  },
  {
   "cell_type": "markdown",
   "metadata": {},
   "source": [
    "1️⃣ **Seleção ($\\sigma$) - Filtra as linhas da tabela que satisfazem uma condição.**"
   ]
  },
  {
   "cell_type": "markdown",
   "metadata": {},
   "source": [
    "- Equivalente ao ```WHERE``` no SQL.\n",
    "- Exemplo (Em Álgebra Relacional): Selecionar clientes com idade maior que 30.\n",
    "$$\n",
    "    \\sigma_{idade > 30}\n",
    "$$\n"
   ]
  },
  {
   "cell_type": "markdown",
   "metadata": {},
   "source": [
    "2️⃣ Projeção ($\\pi$) - Retorna apenas colunas específicas de uma tabela."
   ]
  },
  {
   "cell_type": "markdown",
   "metadata": {},
   "source": [
    "3️⃣ União ($\\cup$) - Combinando Dados"
   ]
  },
  {
   "cell_type": "markdown",
   "metadata": {},
   "source": [
    "4️⃣  Interseção ($\\cap$) - Retorna apenas os registros comuns entre duas tabelas."
   ]
  },
  {
   "cell_type": "markdown",
   "metadata": {},
   "source": [
    "5️⃣ Diferença ($-$) - Encontrando Exclusões"
   ]
  },
  {
   "cell_type": "markdown",
   "metadata": {},
   "source": [
    "6️⃣ Produto Cartesiano (x) - Cruzando Informações"
   ]
  },
  {
   "cell_type": "markdown",
   "metadata": {
    "vscode": {
     "languageId": "plaintext"
    }
   },
   "source": [
    "## **3.2 SQL Avançado**"
   ]
  },
  {
   "cell_type": "markdown",
   "metadata": {
    "vscode": {
     "languageId": "plaintext"
    }
   },
   "source": [
    "### **Filtros**"
   ]
  },
  {
   "cell_type": "markdown",
   "metadata": {
    "vscode": {
     "languageId": "plaintext"
    }
   },
   "source": [
    "#### **WHERE**"
   ]
  },
  {
   "cell_type": "code",
   "execution_count": null,
   "metadata": {},
   "outputs": [],
   "source": []
  },
  {
   "cell_type": "markdown",
   "metadata": {
    "vscode": {
     "languageId": "plaintext"
    }
   },
   "source": [
    "### **Ordenação**"
   ]
  },
  {
   "cell_type": "markdown",
   "metadata": {
    "vscode": {
     "languageId": "plaintext"
    }
   },
   "source": [
    "#### **ORDER BY**"
   ]
  },
  {
   "cell_type": "code",
   "execution_count": null,
   "metadata": {},
   "outputs": [],
   "source": []
  },
  {
   "cell_type": "markdown",
   "metadata": {
    "vscode": {
     "languageId": "plaintext"
    }
   },
   "source": [
    "### **Joins**"
   ]
  },
  {
   "cell_type": "markdown",
   "metadata": {
    "vscode": {
     "languageId": "plaintext"
    }
   },
   "source": [
    "#### **INNER JOIN**"
   ]
  },
  {
   "cell_type": "code",
   "execution_count": null,
   "metadata": {},
   "outputs": [],
   "source": []
  },
  {
   "cell_type": "markdown",
   "metadata": {
    "vscode": {
     "languageId": "plaintext"
    }
   },
   "source": [
    "#### **LEFT JOIN**"
   ]
  },
  {
   "cell_type": "code",
   "execution_count": null,
   "metadata": {},
   "outputs": [],
   "source": []
  },
  {
   "cell_type": "markdown",
   "metadata": {
    "vscode": {
     "languageId": "plaintext"
    }
   },
   "source": [
    "#### **RIGHT JOIN**"
   ]
  },
  {
   "cell_type": "code",
   "execution_count": null,
   "metadata": {},
   "outputs": [],
   "source": []
  },
  {
   "cell_type": "markdown",
   "metadata": {
    "vscode": {
     "languageId": "plaintext"
    }
   },
   "source": [
    "#### **FULL JOIN**"
   ]
  },
  {
   "cell_type": "code",
   "execution_count": null,
   "metadata": {},
   "outputs": [],
   "source": []
  },
  {
   "cell_type": "markdown",
   "metadata": {
    "vscode": {
     "languageId": "plaintext"
    }
   },
   "source": [
    "### **Funções Agregadas**"
   ]
  },
  {
   "cell_type": "markdown",
   "metadata": {
    "vscode": {
     "languageId": "plaintext"
    }
   },
   "source": [
    "#### **SUM**"
   ]
  },
  {
   "cell_type": "code",
   "execution_count": null,
   "metadata": {},
   "outputs": [],
   "source": []
  },
  {
   "cell_type": "markdown",
   "metadata": {
    "vscode": {
     "languageId": "plaintext"
    }
   },
   "source": [
    "#### **AVG**"
   ]
  },
  {
   "cell_type": "code",
   "execution_count": null,
   "metadata": {},
   "outputs": [],
   "source": []
  },
  {
   "cell_type": "markdown",
   "metadata": {
    "vscode": {
     "languageId": "plaintext"
    }
   },
   "source": [
    "#### **COUNT**"
   ]
  },
  {
   "cell_type": "code",
   "execution_count": null,
   "metadata": {},
   "outputs": [],
   "source": []
  },
  {
   "cell_type": "markdown",
   "metadata": {
    "vscode": {
     "languageId": "plaintext"
    }
   },
   "source": [
    "### **Views e Subqueries**"
   ]
  },
  {
   "cell_type": "code",
   "execution_count": null,
   "metadata": {},
   "outputs": [],
   "source": []
  },
  {
   "cell_type": "markdown",
   "metadata": {
    "vscode": {
     "languageId": "plaintext"
    }
   },
   "source": [
    "### **Otimização de Queries**"
   ]
  },
  {
   "cell_type": "markdown",
   "metadata": {
    "vscode": {
     "languageId": "plaintext"
    }
   },
   "source": [
    "#### **Índices**"
   ]
  },
  {
   "cell_type": "code",
   "execution_count": null,
   "metadata": {},
   "outputs": [],
   "source": []
  },
  {
   "cell_type": "markdown",
   "metadata": {
    "vscode": {
     "languageId": "plaintext"
    }
   },
   "source": [
    "#### **Normalização**"
   ]
  },
  {
   "cell_type": "code",
   "execution_count": null,
   "metadata": {},
   "outputs": [],
   "source": []
  },
  {
   "cell_type": "markdown",
   "metadata": {
    "vscode": {
     "languageId": "plaintext"
    }
   },
   "source": [
    "# **Módulo 4: Web Scrapping e Extração de Dados**"
   ]
  },
  {
   "cell_type": "markdown",
   "metadata": {
    "vscode": {
     "languageId": "plaintext"
    }
   },
   "source": [
    "## **4.1 Introdução ao Web Scrapping**"
   ]
  },
  {
   "cell_type": "markdown",
   "metadata": {
    "vscode": {
     "languageId": "plaintext"
    }
   },
   "source": [
    "### **O que é Web Scrapping e quando utilizar essa técnica?**"
   ]
  },
  {
   "cell_type": "code",
   "execution_count": null,
   "metadata": {},
   "outputs": [],
   "source": []
  },
  {
   "cell_type": "markdown",
   "metadata": {
    "vscode": {
     "languageId": "plaintext"
    }
   },
   "source": [
    "### **Diferença entre scrapping e APIs**"
   ]
  },
  {
   "cell_type": "code",
   "execution_count": null,
   "metadata": {},
   "outputs": [],
   "source": []
  },
  {
   "cell_type": "markdown",
   "metadata": {
    "vscode": {
     "languageId": "plaintext"
    }
   },
   "source": [
    "### **Ferramentas comuns**"
   ]
  },
  {
   "cell_type": "markdown",
   "metadata": {
    "vscode": {
     "languageId": "plaintext"
    }
   },
   "source": [
    "#### **BeatifulSoup (Extração de HTML)**"
   ]
  },
  {
   "cell_type": "code",
   "execution_count": null,
   "metadata": {},
   "outputs": [],
   "source": []
  },
  {
   "cell_type": "markdown",
   "metadata": {
    "vscode": {
     "languageId": "plaintext"
    }
   },
   "source": [
    "#### **Selenium (Automação de interações)**"
   ]
  },
  {
   "cell_type": "code",
   "execution_count": null,
   "metadata": {},
   "outputs": [],
   "source": []
  },
  {
   "cell_type": "markdown",
   "metadata": {
    "vscode": {
     "languageId": "plaintext"
    }
   },
   "source": [
    "## **4.2 Extraindo Dados da Web** "
   ]
  },
  {
   "cell_type": "markdown",
   "metadata": {
    "vscode": {
     "languageId": "plaintext"
    }
   },
   "source": [
    "### **Identificando estruturas HTML e elementos**"
   ]
  },
  {
   "cell_type": "code",
   "execution_count": null,
   "metadata": {},
   "outputs": [],
   "source": []
  },
  {
   "cell_type": "markdown",
   "metadata": {
    "vscode": {
     "languageId": "plaintext"
    }
   },
   "source": [
    "### **Fazendo requisições HTTP com requests**"
   ]
  },
  {
   "cell_type": "code",
   "execution_count": null,
   "metadata": {},
   "outputs": [],
   "source": []
  },
  {
   "cell_type": "markdown",
   "metadata": {
    "vscode": {
     "languageId": "plaintext"
    }
   },
   "source": [
    "### **Extraindo tabelas e listas de sites**"
   ]
  },
  {
   "cell_type": "code",
   "execution_count": null,
   "metadata": {},
   "outputs": [],
   "source": []
  },
  {
   "cell_type": "markdown",
   "metadata": {
    "vscode": {
     "languageId": "plaintext"
    }
   },
   "source": [
    "### **Automação com Selenium para interagir com páginas**"
   ]
  },
  {
   "cell_type": "code",
   "execution_count": null,
   "metadata": {},
   "outputs": [],
   "source": []
  },
  {
   "cell_type": "markdown",
   "metadata": {
    "vscode": {
     "languageId": "plaintext"
    }
   },
   "source": [
    "## **4.3 APIs e Consumo de Dados Externos**"
   ]
  },
  {
   "cell_type": "markdown",
   "metadata": {
    "vscode": {
     "languageId": "plaintext"
    }
   },
   "source": [
    "### **O que são APIs REST?**"
   ]
  },
  {
   "cell_type": "code",
   "execution_count": null,
   "metadata": {},
   "outputs": [],
   "source": []
  },
  {
   "cell_type": "markdown",
   "metadata": {
    "vscode": {
     "languageId": "plaintext"
    }
   },
   "source": [
    "### **Fazendo requisições GET e POST**"
   ]
  },
  {
   "cell_type": "code",
   "execution_count": null,
   "metadata": {},
   "outputs": [],
   "source": []
  },
  {
   "cell_type": "markdown",
   "metadata": {
    "vscode": {
     "languageId": "plaintext"
    }
   },
   "source": [
    "### **Manipulando dados JSON e XML**"
   ]
  },
  {
   "cell_type": "code",
   "execution_count": null,
   "metadata": {},
   "outputs": [],
   "source": []
  },
  {
   "cell_type": "markdown",
   "metadata": {
    "vscode": {
     "languageId": "plaintext"
    }
   },
   "source": [
    "# **Projeto 2 (Módulos 3 e 4)**"
   ]
  },
  {
   "cell_type": "markdown",
   "metadata": {
    "vscode": {
     "languageId": "plaintext"
    }
   },
   "source": [
    "**Objetivo:** Criar um banco de dados populado por dados coletados da web\n",
    "\n",
    "**Habilidades envolvidas:** SQL, Web Scraping, consumo de APIs\n",
    "\n",
    "**Tarefas:**\n",
    "\n",
    "- Criar um banco de dados relacional no PostgreSQL\n",
    "- Coletar dados de produtos, notícias ou cotações de um site usando Web Scraping\n",
    "- Inserir os dados no banco via SQL\n",
    "- Criar queries para análise dos dados coletados"
   ]
  },
  {
   "cell_type": "code",
   "execution_count": null,
   "metadata": {},
   "outputs": [],
   "source": []
  },
  {
   "cell_type": "markdown",
   "metadata": {
    "vscode": {
     "languageId": "plaintext"
    }
   },
   "source": [
    "# **Módulo 5: ETL e Pipelines de Dados**"
   ]
  },
  {
   "cell_type": "markdown",
   "metadata": {
    "vscode": {
     "languageId": "plaintext"
    }
   },
   "source": [
    "## **5.1 Introdução ao ETL**"
   ]
  },
  {
   "cell_type": "markdown",
   "metadata": {
    "vscode": {
     "languageId": "plaintext"
    }
   },
   "source": [
    "### **O que é ETL e sua importância**"
   ]
  },
  {
   "cell_type": "code",
   "execution_count": null,
   "metadata": {},
   "outputs": [],
   "source": []
  },
  {
   "cell_type": "markdown",
   "metadata": {
    "vscode": {
     "languageId": "plaintext"
    }
   },
   "source": [
    "### **Diferença entre ETL e ELT**"
   ]
  },
  {
   "cell_type": "code",
   "execution_count": null,
   "metadata": {},
   "outputs": [],
   "source": []
  },
  {
   "cell_type": "markdown",
   "metadata": {
    "vscode": {
     "languageId": "plaintext"
    }
   },
   "source": [
    "## **5.2 Construindo um Pipeline de Dados**"
   ]
  },
  {
   "cell_type": "markdown",
   "metadata": {
    "vscode": {
     "languageId": "plaintext"
    }
   },
   "source": [
    "### **Extraindo dados de múltiplas fontes**"
   ]
  },
  {
   "cell_type": "code",
   "execution_count": null,
   "metadata": {},
   "outputs": [],
   "source": []
  },
  {
   "cell_type": "markdown",
   "metadata": {
    "vscode": {
     "languageId": "plaintext"
    }
   },
   "source": [
    "### **Transformação: limpeza e padronização**"
   ]
  },
  {
   "cell_type": "code",
   "execution_count": null,
   "metadata": {},
   "outputs": [],
   "source": []
  },
  {
   "cell_type": "markdown",
   "metadata": {
    "vscode": {
     "languageId": "plaintext"
    }
   },
   "source": [
    "### **Carregamento: armazenando os dados corretamente**"
   ]
  },
  {
   "cell_type": "code",
   "execution_count": null,
   "metadata": {},
   "outputs": [],
   "source": []
  },
  {
   "cell_type": "markdown",
   "metadata": {
    "vscode": {
     "languageId": "plaintext"
    }
   },
   "source": [
    "## **5.3 Ferramentas para ETL**"
   ]
  },
  {
   "cell_type": "markdown",
   "metadata": {
    "vscode": {
     "languageId": "plaintext"
    }
   },
   "source": [
    "### **Pandas para transformação de dados**"
   ]
  },
  {
   "cell_type": "code",
   "execution_count": null,
   "metadata": {},
   "outputs": [],
   "source": []
  },
  {
   "cell_type": "markdown",
   "metadata": {
    "vscode": {
     "languageId": "plaintext"
    }
   },
   "source": [
    "### **Airflow para automação de pipelines**"
   ]
  },
  {
   "cell_type": "code",
   "execution_count": null,
   "metadata": {},
   "outputs": [],
   "source": []
  },
  {
   "cell_type": "markdown",
   "metadata": {
    "vscode": {
     "languageId": "plaintext"
    }
   },
   "source": [
    "### **DBT para modelagem e versionamento de dados**"
   ]
  },
  {
   "cell_type": "code",
   "execution_count": null,
   "metadata": {},
   "outputs": [],
   "source": []
  },
  {
   "cell_type": "markdown",
   "metadata": {
    "vscode": {
     "languageId": "plaintext"
    }
   },
   "source": [
    "# **Módulo 6: Big Data e Processamento Distribuído**"
   ]
  },
  {
   "cell_type": "markdown",
   "metadata": {
    "vscode": {
     "languageId": "plaintext"
    }
   },
   "source": [
    "## **6.1 O que é Big Data**"
   ]
  },
  {
   "cell_type": "markdown",
   "metadata": {
    "vscode": {
     "languageId": "plaintext"
    }
   },
   "source": [
    "### **Conceitos de Volume, Velocidade e Variedade**"
   ]
  },
  {
   "cell_type": "code",
   "execution_count": null,
   "metadata": {},
   "outputs": [],
   "source": []
  },
  {
   "cell_type": "markdown",
   "metadata": {
    "vscode": {
     "languageId": "plaintext"
    }
   },
   "source": [
    "### **Arquiteturas de processamento distribuído**"
   ]
  },
  {
   "cell_type": "code",
   "execution_count": null,
   "metadata": {},
   "outputs": [],
   "source": []
  },
  {
   "cell_type": "markdown",
   "metadata": {
    "vscode": {
     "languageId": "plaintext"
    }
   },
   "source": [
    "### **Introdução ao Hadoop e Spark**"
   ]
  },
  {
   "cell_type": "code",
   "execution_count": null,
   "metadata": {},
   "outputs": [],
   "source": []
  },
  {
   "cell_type": "markdown",
   "metadata": {
    "vscode": {
     "languageId": "plaintext"
    }
   },
   "source": [
    "## **6.2 Fundamentos do Spark**"
   ]
  },
  {
   "cell_type": "markdown",
   "metadata": {
    "vscode": {
     "languageId": "plaintext"
    }
   },
   "source": [
    "### **Trabalhando com PySpark**"
   ]
  },
  {
   "cell_type": "code",
   "execution_count": null,
   "metadata": {},
   "outputs": [],
   "source": []
  },
  {
   "cell_type": "markdown",
   "metadata": {
    "vscode": {
     "languageId": "plaintext"
    }
   },
   "source": [
    "### **Transformações e ações em dados grandes**"
   ]
  },
  {
   "cell_type": "code",
   "execution_count": null,
   "metadata": {},
   "outputs": [],
   "source": []
  },
  {
   "cell_type": "markdown",
   "metadata": {
    "vscode": {
     "languageId": "plaintext"
    }
   },
   "source": [
    "### **Uso de DataFrames e RDDs**"
   ]
  },
  {
   "cell_type": "code",
   "execution_count": null,
   "metadata": {},
   "outputs": [],
   "source": []
  },
  {
   "cell_type": "markdown",
   "metadata": {
    "vscode": {
     "languageId": "plaintext"
    }
   },
   "source": [
    "# **Projeto 3 (Módulos 5 e 6)**"
   ]
  },
  {
   "cell_type": "markdown",
   "metadata": {
    "vscode": {
     "languageId": "plaintext"
    }
   },
   "source": [
    "**Objetivo:** Criar um pipeline de dados automatizado usando ETL\n",
    "\n",
    "**Habilidades envolvidas:** ETL, Pandas, Spark\n",
    "  \n",
    "**Tarefas:**\n",
    "\n",
    "- Criar um pipeline de ETL que extrai dados de uma API\n",
    "\n",
    "- Transformar os dados e salvar em um Data Warehouse\n",
    "\n",
    "- Processar os dados com Spark e gerar relatórios"
   ]
  },
  {
   "cell_type": "markdown",
   "metadata": {
    "vscode": {
     "languageId": "plaintext"
    }
   },
   "source": [
    "# **Módulo Extra: Banco de dados NoSQL**"
   ]
  },
  {
   "cell_type": "markdown",
   "metadata": {
    "vscode": {
     "languageId": "plaintext"
    }
   },
   "source": [
    "## **Extra 1: Introdução ao NoSQL**"
   ]
  },
  {
   "cell_type": "markdown",
   "metadata": {
    "vscode": {
     "languageId": "plaintext"
    }
   },
   "source": [
    "### **O que são bancos de dados NoSQL?**"
   ]
  },
  {
   "cell_type": "code",
   "execution_count": null,
   "metadata": {},
   "outputs": [],
   "source": []
  },
  {
   "cell_type": "markdown",
   "metadata": {
    "vscode": {
     "languageId": "plaintext"
    }
   },
   "source": [
    "### **Diferença entre SQL e NoSQL**"
   ]
  },
  {
   "cell_type": "code",
   "execution_count": null,
   "metadata": {},
   "outputs": [],
   "source": []
  },
  {
   "cell_type": "markdown",
   "metadata": {
    "vscode": {
     "languageId": "plaintext"
    }
   },
   "source": [
    "#### **Casos de uso**"
   ]
  },
  {
   "cell_type": "code",
   "execution_count": null,
   "metadata": {},
   "outputs": [],
   "source": []
  },
  {
   "cell_type": "markdown",
   "metadata": {
    "vscode": {
     "languageId": "plaintext"
    }
   },
   "source": [
    "#### **Vantagens/desvantagens**"
   ]
  },
  {
   "cell_type": "code",
   "execution_count": null,
   "metadata": {},
   "outputs": [],
   "source": []
  },
  {
   "cell_type": "markdown",
   "metadata": {
    "vscode": {
     "languageId": "plaintext"
    }
   },
   "source": [
    "### **Principais tipos de NoSQL**"
   ]
  },
  {
   "cell_type": "markdown",
   "metadata": {
    "vscode": {
     "languageId": "plaintext"
    }
   },
   "source": [
    "#### **KeyValue**"
   ]
  },
  {
   "cell_type": "markdown",
   "metadata": {
    "vscode": {
     "languageId": "plaintext"
    }
   },
   "source": [
    "##### **Redis**"
   ]
  },
  {
   "cell_type": "code",
   "execution_count": null,
   "metadata": {},
   "outputs": [],
   "source": []
  },
  {
   "cell_type": "markdown",
   "metadata": {
    "vscode": {
     "languageId": "plaintext"
    }
   },
   "source": [
    "#### **Document**"
   ]
  },
  {
   "cell_type": "markdown",
   "metadata": {},
   "source": [
    "##### **MongoDB**"
   ]
  },
  {
   "cell_type": "code",
   "execution_count": null,
   "metadata": {},
   "outputs": [],
   "source": []
  },
  {
   "cell_type": "markdown",
   "metadata": {
    "vscode": {
     "languageId": "plaintext"
    }
   },
   "source": [
    "#### **Columnar**"
   ]
  },
  {
   "cell_type": "markdown",
   "metadata": {
    "vscode": {
     "languageId": "plaintext"
    }
   },
   "source": [
    "##### **Cassandra**"
   ]
  },
  {
   "cell_type": "code",
   "execution_count": null,
   "metadata": {},
   "outputs": [],
   "source": []
  },
  {
   "cell_type": "markdown",
   "metadata": {
    "vscode": {
     "languageId": "plaintext"
    }
   },
   "source": [
    "#### **Graph**"
   ]
  },
  {
   "cell_type": "markdown",
   "metadata": {
    "vscode": {
     "languageId": "plaintext"
    }
   },
   "source": [
    "##### **Neo4j**"
   ]
  },
  {
   "cell_type": "code",
   "execution_count": null,
   "metadata": {},
   "outputs": [],
   "source": []
  },
  {
   "cell_type": "markdown",
   "metadata": {
    "vscode": {
     "languageId": "plaintext"
    }
   },
   "source": [
    "## **Extra 2: Trabalhando com MongoDB**"
   ]
  },
  {
   "cell_type": "markdown",
   "metadata": {
    "vscode": {
     "languageId": "plaintext"
    }
   },
   "source": [
    "### **Estrutura de documentos JSON no MongoDB**"
   ]
  },
  {
   "cell_type": "code",
   "execution_count": null,
   "metadata": {},
   "outputs": [],
   "source": []
  },
  {
   "cell_type": "markdown",
   "metadata": {
    "vscode": {
     "languageId": "plaintext"
    }
   },
   "source": [
    "### **Operações Básicas**"
   ]
  },
  {
   "cell_type": "markdown",
   "metadata": {
    "vscode": {
     "languageId": "plaintext"
    }
   },
   "source": [
    "#### **Inserção**"
   ]
  },
  {
   "cell_type": "code",
   "execution_count": null,
   "metadata": {},
   "outputs": [],
   "source": []
  },
  {
   "cell_type": "markdown",
   "metadata": {
    "vscode": {
     "languageId": "plaintext"
    }
   },
   "source": [
    "#### **Consulta**"
   ]
  },
  {
   "cell_type": "code",
   "execution_count": null,
   "metadata": {},
   "outputs": [],
   "source": []
  },
  {
   "cell_type": "markdown",
   "metadata": {
    "vscode": {
     "languageId": "plaintext"
    }
   },
   "source": [
    "#### **Atualização**"
   ]
  },
  {
   "cell_type": "code",
   "execution_count": null,
   "metadata": {},
   "outputs": [],
   "source": []
  },
  {
   "cell_type": "markdown",
   "metadata": {
    "vscode": {
     "languageId": "plaintext"
    }
   },
   "source": [
    "#### **Remoção**"
   ]
  },
  {
   "cell_type": "code",
   "execution_count": null,
   "metadata": {},
   "outputs": [],
   "source": []
  },
  {
   "cell_type": "markdown",
   "metadata": {
    "vscode": {
     "languageId": "plaintext"
    }
   },
   "source": [
    "### **Índices e otimização de consultas**"
   ]
  },
  {
   "cell_type": "code",
   "execution_count": null,
   "metadata": {},
   "outputs": [],
   "source": []
  },
  {
   "cell_type": "markdown",
   "metadata": {
    "vscode": {
     "languageId": "plaintext"
    }
   },
   "source": [
    "## **Extra 3: Integração de NoSQL com Python**"
   ]
  },
  {
   "cell_type": "markdown",
   "metadata": {
    "vscode": {
     "languageId": "plaintext"
    }
   },
   "source": [
    "### **Conectando o MongoDB ao Python usando pymongo**"
   ]
  },
  {
   "cell_type": "code",
   "execution_count": null,
   "metadata": {},
   "outputs": [],
   "source": []
  },
  {
   "cell_type": "markdown",
   "metadata": {
    "vscode": {
     "languageId": "plaintext"
    }
   },
   "source": [
    "### **Inserindo e consultando documentos via script Python**"
   ]
  },
  {
   "cell_type": "code",
   "execution_count": null,
   "metadata": {},
   "outputs": [],
   "source": []
  },
  {
   "cell_type": "markdown",
   "metadata": {
    "vscode": {
     "languageId": "plaintext"
    }
   },
   "source": [
    "### **Transformando dados NoSQL para DataFrames Pandas**"
   ]
  },
  {
   "cell_type": "code",
   "execution_count": null,
   "metadata": {},
   "outputs": [],
   "source": []
  },
  {
   "cell_type": "markdown",
   "metadata": {
    "vscode": {
     "languageId": "plaintext"
    }
   },
   "source": [
    "# **📌 Projeto Final: Construção de um Pipeline de Dados Completo para Monitoramento de Indicadores Econômicos**"
   ]
  },
  {
   "cell_type": "markdown",
   "metadata": {
    "vscode": {
     "languageId": "plaintext"
    }
   },
   "source": [
    "**Objetivo:** Criar um pipeline completo que extrai, transforma, armazena e analisa dados de indicadores econômicos a partir de múltiplas fontes, incluindo Web Scraping, APIs e bancos de dados. O projeto deve utilizar tanto SQL quanto NoSQL, além de técnicas de ETL e processamento distribuído.\n",
    "\n",
    "**Etapas e Tecnologias Envolvidas**\n",
    "**1. Extração de Dados (Web Scraping + APIs)**\n",
    "\n",
    "- Ferramentas: \n",
    "    - requests \n",
    "    - BeautifulSoup\n",
    "    -  Selenium\n",
    "    \n",
    "- A fazer:\n",
    "    \n",
    "    - Coletar dados de inflação, PIB e taxa de câmbio de sites governamentais via Web Scraping.\n",
    "    - Utilizar APIs financeiras para obter dados históricos de ativos.\n",
    "    - Armazenar os dados brutos em JSON e CSV.\n",
    "\n",
    "    📝 Entrega: Criar scripts Python para extrair e armazenar os dados.\n",
    "\n",
    "**2. Armazenamento e Modelagem de Dados (SQL + NoSQL)**\n",
    "\n",
    "- Ferramentas: \n",
    "    - PostgreSQL\n",
    "    - MongoDB\n",
    "    - pymongo\n",
    "\n",
    "- A fazer:\n",
    "\n",
    "    - Criar um banco relacional para armazenar séries temporais estruturadas.\n",
    "    - Utilizar MongoDB para armazenar metadados dos indicadores.\n",
    "    - Definir índices e otimizar consultas.\n",
    "\n",
    "    📝 Entrega: Criar e popular tabelas SQL e coleções MongoDB.\n",
    "\n",
    "**3. Transformação e Enriquecimento dos Dados (ETL com Pandas e Airflow)**\n",
    "  \n",
    "- Ferramentas: \n",
    "    - Pandas\n",
    "    - Airflow\n",
    "    - DBT\n",
    "\n",
    "- A fazer:\n",
    "\n",
    "    - Criar um pipeline de ETL que padroniza e enriquece os dados.\n",
    "    - Normalizar datas e remover inconsistências.\n",
    "    - Automatizar a atualização diária dos dados com Apache Airflow.\n",
    "\n",
    "    📝 Entrega: Criar DAGs no Airflow para automação do pipeline.\n",
    "\n",
    "**4. Processamento de Dados em Larga Escala (Big Data com Spark)**\n",
    "\n",
    "- Ferramentas: \n",
    "    - PySpark\n",
    "    - Hadoop\n",
    "    - DataFrames e RDDs\n",
    "\n",
    "- A fazer:\n",
    "\n",
    "    - Carregar os dados no Spark para processamento distribuído.\n",
    "    - Criar agregações e cálculos de médias móveis para previsões.\n",
    "\n",
    "    📝 Entrega: Criar scripts PySpark para análise de grandes volumes de dados.\n",
    "\n",
    "**5. Dashboard Interativo para Visualização dos Dados** **(Achar um papel melhor para Excel + VBA nesse projeto)**\n",
    "\n",
    "- Ferramentas: \n",
    "  - Excel\n",
    "  - VBA\n",
    "\n",
    "- A fazer:\n",
    "    \n",
    "    - Criar gráficos dinâmicos no Excel/VBA para explorar os dados.\n",
    "    - Construir um dashboard web com Dash para visualização interativa.\n",
    "\n",
    "    📝 Entrega: Criar gráficos e dashboards para análise exploratória.\n",
    "\n",
    "**🎯 Entregáveis Finais**\n",
    "\n",
    "- ✅ Código-fonte do pipeline (Jupyter Notebooks + Scripts Python). \n",
    "\n",
    "- ✅ Banco de dados SQL e NoSQL populado.\n",
    "\n",
    "- ✅ Relatórios e visualizações em Excel e Dash.\n",
    "    \n",
    "- ✅ Documentação do projeto explicando cada etapa."
   ]
  }
 ],
 "metadata": {
  "kernelspec": {
   "display_name": "Python 3",
   "language": "python",
   "name": "python3"
  },
  "language_info": {
   "codemirror_mode": {
    "name": "ipython",
    "version": 3
   },
   "file_extension": ".py",
   "mimetype": "text/x-python",
   "name": "python",
   "nbconvert_exporter": "python",
   "pygments_lexer": "ipython3",
   "version": "3.10.12"
  }
 },
 "nbformat": 4,
 "nbformat_minor": 2
}
