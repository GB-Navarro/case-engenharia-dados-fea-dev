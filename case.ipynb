{
 "cells": [
  {
   "cell_type": "markdown",
   "metadata": {},
   "source": [
    "# **Módulo 1: Introdução à Engenharia de Dados**"
   ]
  },
  {
   "cell_type": "markdown",
   "metadata": {},
   "source": [
    "## **1.1 O que é Engenharia de Dados ?**"
   ]
  },
  {
   "cell_type": "markdown",
   "metadata": {},
   "source": [
    "Engenharia de Dados é a área responsável por **construir e manter a infraestrutura** que permite coletar, armazenar, processar e disponibilizar dados de forma eficiente. Pense nela como a \"construção de estradas\" para os dados: o engenheiro de dados cria os caminhos por onde os dados vão trafegar, garantindo que eles cheguem ao destino certo, no formato certo e no momento certo."
   ]
  },
  {
   "cell_type": "markdown",
   "metadata": {},
   "source": [
    "### **Engenharia de Dados vs Ciência de Dados**"
   ]
  },
  {
   "cell_type": "markdown",
   "metadata": {},
   "source": [
    "#### **Engenharia de Dados**:"
   ]
  },
  {
   "cell_type": "markdown",
   "metadata": {},
   "source": [
    "- Foca na construção e manutenção da infraestrutura de dados.\n",
    "- Responsável pela coleta, armazenamento e processamento de grandes volumes de dados.\n",
    "- Se os dados fossem água, o engenheiro de dados seria responsável por construir canos, reservatórios e sistemas de filtragem para que a água chegue limpa e pronta para uso."
   ]
  },
  {
   "cell_type": "markdown",
   "metadata": {},
   "source": [
    "#### **Ciência de Dados**:"
   ]
  },
  {
   "cell_type": "markdown",
   "metadata": {},
   "source": [
    "- Foca na análise e interpretação dos dados para extrair insights e tomar decisões informadas.\n",
    "- Utiliza técnicas estatísticas, algoritmos de machine learning e visualização de dados.\n",
    "- Envolve a criação de modelos preditivos e a realização de experimentos para testar hipóteses.\n",
    "- Se os dados fossem água, o cientista de dados seria responsável por analisar a qualidade da água, descobrir de onde ela vem e prever se vai faltar no futuro."
   ]
  },
  {
   "cell_type": "markdown",
   "metadata": {},
   "source": [
    "### **O papel do Engenheiro de Dados dentro de um time de dados**"
   ]
  },
  {
   "cell_type": "markdown",
   "metadata": {},
   "source": [
    "O papel do engenheiro de dados dentro de um time de dados é fundamental para garantir que os dados estejam disponíveis, acessíveis e em um formato utilizável para os cientistas de dados e outros stakeholders. As principais responsabilidades incluem:\n",
    "\n",
    "- **Coleta de Dados**: Coletar dados de diferentes fontes, como APIs, bancos de dados, planilhas, sensores, etc.\n",
    "- **Armazenamento de Dados**: Implementar processos de validação e limpeza de dados para assegurar a precisão e a integridade dos dados.\n",
    "- **Armazenamento e gerenciamento de dados**: Escolher e configurar onde os dados serão armazenados (bancos de dados, data lakes, data warehouses).\n",
    "- **Processamento e Transformação de Dados**: Limpar, organizar e transformar os dados brutos em um formato útil para análise.\n",
    "- **Criação de Pipelines de Dados**: Desenvolver fluxos automatizados para mover e processar dados entre diferentes sistemas.\n",
    "- **Garantia de Qualidade dos Dados**: Verificar se os dados estão completos, consistentes e livres de erros.\n"
   ]
  },
  {
   "cell_type": "markdown",
   "metadata": {},
   "source": [
    "### **Visão geral do pipeline de dados: Extração, Transformação e Carregamento (ETL)**"
   ]
  },
  {
   "cell_type": "markdown",
   "metadata": {},
   "source": [
    "#### **Pipeline de Dados**"
   ]
  },
  {
   "cell_type": "markdown",
   "metadata": {},
   "source": [
    "Um pipeline de dados é um conjunto de processos que move dados de uma fonte para um destino, passando por etapas de coleta, processamento e armazenamento. É como uma \"linha de montagem\" para dados, onde cada etapa tem um propósito específico."
   ]
  },
  {
   "cell_type": "markdown",
   "metadata": {},
   "source": [
    "#### **(ETL) Extração, Transformação e Carregamento**"
   ]
  },
  {
   "cell_type": "markdown",
   "metadata": {},
   "source": [
    "É um tipo de pipeline de dados que envolve três etapas principais:\n",
    "\n",
    "1. **Extração (Extract):**\n",
    "\n",
    "    - Coleta de dados\n",
    "\n",
    "    - Exemplo: Extrair dados de vendas de um site de e-commerce.\n",
    "\n",
    "2. **Transformação (Transform):**\n",
    "\n",
    "    - Processamento dos dados\n",
    "\n",
    "    - Exemplo: Converter datas para um formato padrão, remover dados duplicados ou calcular valores totais.\n",
    "\n",
    "3. **Carregamento (Load):**\n",
    "\n",
    "    - Armazenamento dos dados\n",
    "\n",
    "    - Exemplo: Carregar os dados de vendas processados em um banco de dados para que os analistas possam acessá-los."
   ]
  }
 ],
 "metadata": {
  "language_info": {
   "name": "python"
  }
 },
 "nbformat": 4,
 "nbformat_minor": 2
}
