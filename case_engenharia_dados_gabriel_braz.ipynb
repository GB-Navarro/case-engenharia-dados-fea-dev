{
 "cells": [
  {
   "cell_type": "markdown",
   "metadata": {},
   "source": [
    "# **Módulo 5: ETL e Pipelines de Dados**"
   ]
  },
  {
   "cell_type": "markdown",
   "metadata": {},
   "source": [
    "## Computação em nuvem\n",
    "\n",
    "Computação em nuvem é um termo genérico para o oferecimento web de serviços e \n",
    "recursos computacionais sob demanda e auto gerenciados, especialmente \n",
    "processamento (cpu, memória RAM, etc.) e armazenamento.\n",
    "\n",
    "## Plataformas\n",
    "\n",
    "As principais plataformas de computação em nuvem são:\n",
    "\n",
    "- Amazon Web Services (AWS);\n",
    "- Microsoft Azure;\n",
    "- Google Cloud."
   ]
  },
  {
   "cell_type": "markdown",
   "metadata": {},
   "source": [
    "## AWS e principais serviços que você precisa conhecer\n",
    "\n",
    "### O que é AWS?\n",
    "\n",
    "### AWS Billling\n",
    "\n",
    "### AWS IAM\n",
    "\n",
    "### AWS S3\n",
    "\n",
    "### AWS Athena"
   ]
  },
  {
   "cell_type": "markdown",
   "metadata": {},
   "source": [
    "## Serviços avançados da AWS\n",
    "\n",
    "### AWS Lambda\n",
    "\n",
    "### AWS EventBridge\n",
    "\n",
    "### AWS Step Functions\n",
    "\n",
    "### AWS Glue"
   ]
  },
  {
   "cell_type": "markdown",
   "metadata": {},
   "source": [
    "# **Módulo 6: Big Data e Processamento Distribuído**"
   ]
  },
  {
   "cell_type": "markdown",
   "metadata": {},
   "source": [
    "## O que é Big Data?"
   ]
  },
  {
   "cell_type": "markdown",
   "metadata": {},
   "source": [
    "### Os 3 Vs: Volume, Velocidade e Variedade"
   ]
  },
  {
   "cell_type": "markdown",
   "metadata": {},
   "source": [
    "### Arquitetura e processamento distribuído"
   ]
  },
  {
   "cell_type": "markdown",
   "metadata": {},
   "source": [
    "### Introdução ao Hadoop e Spark"
   ]
  },
  {
   "cell_type": "markdown",
   "metadata": {},
   "source": [
    "## Fundamentos do Spark"
   ]
  },
  {
   "cell_type": "markdown",
   "metadata": {},
   "source": [
    "### Trabalhando com PySpark"
   ]
  },
  {
   "cell_type": "markdown",
   "metadata": {},
   "source": [
    "### Procesamento de grandes volumes de dados"
   ]
  },
  {
   "cell_type": "markdown",
   "metadata": {},
   "source": [
    "### Uso de dataframes e RDDs"
   ]
  },
  {
   "cell_type": "markdown",
   "metadata": {},
   "source": [
    "## **5.1 Introdução ao ETL**"
   ]
  },
  {
   "cell_type": "markdown",
   "metadata": {},
   "source": [
    "### **O que é ETL e sua importância**"
   ]
  },
  {
   "cell_type": "code",
   "execution_count": null,
   "metadata": {},
   "outputs": [],
   "source": []
  },
  {
   "cell_type": "markdown",
   "metadata": {},
   "source": [
    "### **Diferença entre ETL e ELT**"
   ]
  },
  {
   "cell_type": "code",
   "execution_count": null,
   "metadata": {},
   "outputs": [],
   "source": []
  },
  {
   "cell_type": "markdown",
   "metadata": {},
   "source": [
    "## **5.2 Construindo um Pipeline de Dados**"
   ]
  },
  {
   "cell_type": "markdown",
   "metadata": {},
   "source": [
    "### **Extraindo dados de múltiplas fontes**"
   ]
  },
  {
   "cell_type": "code",
   "execution_count": null,
   "metadata": {},
   "outputs": [],
   "source": []
  },
  {
   "cell_type": "markdown",
   "metadata": {},
   "source": [
    "### **Transformação: limpeza e padronização**"
   ]
  },
  {
   "cell_type": "code",
   "execution_count": null,
   "metadata": {},
   "outputs": [],
   "source": []
  },
  {
   "cell_type": "markdown",
   "metadata": {},
   "source": [
    "### **Carregamento: armazenando os dados corretamente**"
   ]
  },
  {
   "cell_type": "code",
   "execution_count": null,
   "metadata": {},
   "outputs": [],
   "source": []
  },
  {
   "cell_type": "markdown",
   "metadata": {},
   "source": [
    "## **5.3 Ferramentas para ETL**"
   ]
  },
  {
   "cell_type": "markdown",
   "metadata": {},
   "source": [
    "### **Pandas para transformação de dados**"
   ]
  },
  {
   "cell_type": "code",
   "execution_count": null,
   "metadata": {},
   "outputs": [],
   "source": []
  },
  {
   "cell_type": "markdown",
   "metadata": {},
   "source": [
    "### **Airflow para automação de pipelines**"
   ]
  },
  {
   "cell_type": "code",
   "execution_count": null,
   "metadata": {},
   "outputs": [],
   "source": []
  },
  {
   "cell_type": "markdown",
   "metadata": {},
   "source": [
    "### **DBT para modelagem e versionamento de dados**"
   ]
  },
  {
   "cell_type": "code",
   "execution_count": null,
   "metadata": {},
   "outputs": [],
   "source": []
  },
  {
   "cell_type": "markdown",
   "metadata": {},
   "source": [
    "## Bônus: demais serviços avançados da AWS\n",
    "\n",
    "### AWS EC2\n",
    "\n",
    "### AWS SageMaker\n",
    "\n",
    "### AWS com acesso externo direto na sua IDE"
   ]
  },
  {
   "cell_type": "markdown",
   "metadata": {},
   "source": [
    "# **Projeto 3 (Módulos 5 e 6)**"
   ]
  },
  {
   "cell_type": "markdown",
   "metadata": {},
   "source": [
    "**Objetivo:** Criar um pipeline de dados automatizado usando ETL\n",
    "\n",
    "**Habilidades envolvidas:** ETL, Pandas, Spark\n",
    "  \n",
    "**Tarefas:**\n",
    "\n",
    "- Criar um pipeline de ETL que extrai dados de uma API\n",
    "\n",
    "- Transformar os dados e salvar em um Data Warehouse\n",
    "\n",
    "- Processar os dados com Spark e gerar relatórios"
   ]
  }
 ],
 "metadata": {
  "language_info": {
   "name": "python"
  }
 },
 "nbformat": 4,
 "nbformat_minor": 2
}
